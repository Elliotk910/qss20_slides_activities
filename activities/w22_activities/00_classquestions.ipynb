{
 "cells": [
  {
   "cell_type": "markdown",
   "metadata": {},
   "source": [
    "# 0. Load imports "
   ]
  },
  {
   "cell_type": "code",
   "execution_count": 23,
   "metadata": {},
   "outputs": [],
   "source": [
    "## imports\n",
    "import pandas as pd\n",
    "import numpy as np\n",
    "import re\n",
    "\n",
    "\n",
    "## print multiple things from same cell\n",
    "from IPython.core.interactiveshell import InteractiveShell\n",
    "InteractiveShell.ast_node_interactivity = \"all\"\n",
    "\n",
    "\n",
    "## load data on 2020 crimes in DC\n",
    "dc_crim_2020 = pd.read_csv(\"https://opendata.arcgis.com/datasets/f516e0dd7b614b088ad781b0c4002331_2.csv\")"
   ]
  },
  {
   "cell_type": "markdown",
   "metadata": {},
   "source": [
    "# 1. Questions: list comprehension and misc. list questions\n",
    "\n",
    "- Confused generally\n",
    "- In class example, why did we need the \"courses\" at the beginning of the list iteration\n",
    "- How did the join syntax work in the example where we paste together offenses from same ward"
   ]
  },
  {
   "cell_type": "code",
   "execution_count": 17,
   "metadata": {},
   "outputs": [],
   "source": [
    "## toy example\n",
    "\n",
    "### pool of courses\n",
    "all_courses = [\"QSS20\", \"QSS17\", \"GOV10\", \"GOV4\", \"COSC1\"]\n"
   ]
  },
  {
   "cell_type": "markdown",
   "metadata": {},
   "source": [
    "## 1.1 Application 1: filtering to a smaller list\n",
    "\n",
    "When we might use: have a lot of columns in a dataframe; want to filter to a smaller set using some pattern"
   ]
  },
  {
   "cell_type": "code",
   "execution_count": 18,
   "metadata": {},
   "outputs": [
    {
     "data": {
      "text/plain": [
       "['GOV10', 'GOV4']"
      ]
     },
     "execution_count": 18,
     "metadata": {},
     "output_type": "execute_result"
    },
    {
     "name": "stdout",
     "output_type": "stream",
     "text": [
      "<class 'list'>\n"
     ]
    }
   ],
   "source": [
    "### pull out ones that contain GOV in the string\n",
    "gov_c = [course for course in all_courses\n",
    "        if \"GOV\" in course]\n",
    "gov_c # result\n",
    "print(type(gov_c)) # a list\n"
   ]
  },
  {
   "cell_type": "code",
   "execution_count": 19,
   "metadata": {},
   "outputs": [
    {
     "name": "stdout",
     "output_type": "stream",
     "text": [
      "same obj\n"
     ]
    }
   ],
   "source": [
    "### showing that the \"course\" is just a placeholder/\n",
    "### arbitrary interator\n",
    "gov_c_alt = [x for x in all_courses\n",
    "        if \"GOV\" in x]\n",
    "\n",
    "if gov_c == gov_c_alt:\n",
    "    print(\"same obj\")\n",
    "else:\n",
    "    print(\"diff obj\")"
   ]
  },
  {
   "cell_type": "code",
   "execution_count": 20,
   "metadata": {},
   "outputs": [
    {
     "ename": "SyntaxError",
     "evalue": "invalid syntax (<ipython-input-20-a2d21592ece3>, line 3)",
     "output_type": "error",
     "traceback": [
      "\u001b[0;36m  File \u001b[0;32m\"<ipython-input-20-a2d21592ece3>\"\u001b[0;36m, line \u001b[0;32m3\u001b[0m\n\u001b[0;31m    [for course in all_courses\u001b[0m\n\u001b[0m     ^\u001b[0m\n\u001b[0;31mSyntaxError\u001b[0m\u001b[0;31m:\u001b[0m invalid syntax\n"
     ]
    }
   ],
   "source": [
    "### what happens if we use the same syntax\n",
    "### but don't have course at the beginning?\n",
    "[for course in all_courses\n",
    "if \"GOV\" in course]\n",
    "\n",
    "### gives us error about invalid syntax\n",
    "### reason is we need to tell it what to return"
   ]
  },
  {
   "cell_type": "markdown",
   "metadata": {},
   "source": [
    "## 1.2 Application two: keep all objects in the list but do some transformation"
   ]
  },
  {
   "cell_type": "code",
   "execution_count": 31,
   "metadata": {},
   "outputs": [
    {
     "data": {
      "text/plain": [
       "['QSS', 'QSS', 'GOV', 'GOV', 'COSC']"
      ]
     },
     "execution_count": 31,
     "metadata": {},
     "output_type": "execute_result"
    },
    {
     "data": {
      "text/plain": [
       "['dartmouth_QSS20',\n",
       " 'dartmouth_QSS17',\n",
       " 'dartmouth_GOV10',\n",
       " 'dartmouth_GOV4',\n",
       " 'dartmouth_COSC1']"
      ]
     },
     "execution_count": 31,
     "metadata": {},
     "output_type": "execute_result"
    }
   ],
   "source": [
    "## strip the numbers from the course names\n",
    "all_courses_prefixonly = [re.sub(r\"\\d+\", \"\", x) # dont worry about understanding the pattern yet; will cover in regex week\n",
    "                          for x in all_courses]\n",
    "\n",
    "all_courses_prefixonly # could then find unique elements\n",
    "\n",
    "## using original list, add dartmouth prefix to the course name\n",
    "all_courses_add_dprefix = [\"dartmouth_\" + x\n",
    "                          for x in all_courses]\n",
    "\n",
    "all_courses_add_dprefix\n"
   ]
  },
  {
   "cell_type": "markdown",
   "metadata": {},
   "source": [
    "## 1.3 Using to help with subsetting columns"
   ]
  },
  {
   "cell_type": "code",
   "execution_count": 36,
   "metadata": {},
   "outputs": [
    {
     "data": {
      "text/plain": [
       "Index(['X', 'Y', 'CCN', 'REPORT_DAT', 'SHIFT', 'METHOD', 'OFFENSE', 'BLOCK',\n",
       "       'XBLOCK', 'YBLOCK', 'WARD', 'ANC', 'DISTRICT', 'PSA',\n",
       "       'NEIGHBORHOOD_CLUSTER', 'BLOCK_GROUP', 'CENSUS_TRACT',\n",
       "       'VOTING_PRECINCT', 'LATITUDE', 'LONGITUDE', 'BID', 'START_DATE',\n",
       "       'END_DATE', 'OBJECTID', 'OCTO_RECORD_ID'],\n",
       "      dtype='object')"
      ]
     },
     "execution_count": 36,
     "metadata": {},
     "output_type": "execute_result"
    },
    {
     "data": {
      "text/plain": [
       "['BID', 'OBJECTID', 'OCTO_RECORD_ID']"
      ]
     },
     "execution_count": 36,
     "metadata": {},
     "output_type": "execute_result"
    },
    {
     "name": "stdout",
     "output_type": "stream",
     "text": [
      "<class 'list'>\n"
     ]
    },
    {
     "data": {
      "text/html": [
       "<div>\n",
       "<style scoped>\n",
       "    .dataframe tbody tr th:only-of-type {\n",
       "        vertical-align: middle;\n",
       "    }\n",
       "\n",
       "    .dataframe tbody tr th {\n",
       "        vertical-align: top;\n",
       "    }\n",
       "\n",
       "    .dataframe thead th {\n",
       "        text-align: right;\n",
       "    }\n",
       "</style>\n",
       "<table border=\"1\" class=\"dataframe\">\n",
       "  <thead>\n",
       "    <tr style=\"text-align: right;\">\n",
       "      <th></th>\n",
       "      <th>BID</th>\n",
       "      <th>OBJECTID</th>\n",
       "      <th>OCTO_RECORD_ID</th>\n",
       "    </tr>\n",
       "  </thead>\n",
       "  <tbody>\n",
       "    <tr>\n",
       "      <th>0</th>\n",
       "      <td>DUPONT CIRCLE</td>\n",
       "      <td>97431273</td>\n",
       "      <td>NaN</td>\n",
       "    </tr>\n",
       "    <tr>\n",
       "      <th>1</th>\n",
       "      <td>NaN</td>\n",
       "      <td>97431275</td>\n",
       "      <td>NaN</td>\n",
       "    </tr>\n",
       "    <tr>\n",
       "      <th>2</th>\n",
       "      <td>NaN</td>\n",
       "      <td>97431276</td>\n",
       "      <td>NaN</td>\n",
       "    </tr>\n",
       "    <tr>\n",
       "      <th>3</th>\n",
       "      <td>NaN</td>\n",
       "      <td>97431278</td>\n",
       "      <td>NaN</td>\n",
       "    </tr>\n",
       "    <tr>\n",
       "      <th>4</th>\n",
       "      <td>NaN</td>\n",
       "      <td>97431285</td>\n",
       "      <td>NaN</td>\n",
       "    </tr>\n",
       "  </tbody>\n",
       "</table>\n",
       "</div>"
      ],
      "text/plain": [
       "             BID  OBJECTID  OCTO_RECORD_ID\n",
       "0  DUPONT CIRCLE  97431273             NaN\n",
       "1            NaN  97431275             NaN\n",
       "2            NaN  97431276             NaN\n",
       "3            NaN  97431278             NaN\n",
       "4            NaN  97431285             NaN"
      ]
     },
     "execution_count": 36,
     "metadata": {},
     "output_type": "execute_result"
    }
   ],
   "source": [
    "## print all columns in the crime report data\n",
    "dc_crim_2020.columns\n",
    "\n",
    "## use list comprehension to\n",
    "## filter to columns with\n",
    "## id in the string\n",
    "id_cols = [col for col in \n",
    "          dc_crim_2020.columns\n",
    "          if \"ID\" in col]\n",
    "id_cols\n",
    "print(type(id_cols))\n",
    "\n",
    "## then, can filter the data\n",
    "dc_crim_2020_idonly = dc_crim_2020[id_cols].copy()\n",
    "dc_crim_2020_idonly.head()"
   ]
  },
  {
   "cell_type": "markdown",
   "metadata": {},
   "source": [
    "# 2. Questions: lambda functions\n",
    "\n",
    "Two questions:\n",
    "\n",
    "- General syntax (see here for a reference: https://www.w3schools.com/python/python_lambda.asp \n",
    "- How they work in the context of aggregations\n",
    "\n",
    "How is a lambda function different from a \"normal\" user-defined function (that has the syntax def func_name(arg): etc?\n",
    "\n",
    "- Operates similarly to normal user-defined functions in that it can take any # of arguments\n",
    "- Operates differently in that it's an \"anonymous\" function or a function that we don't explicitly name/save in memory"
   ]
  },
  {
   "cell_type": "markdown",
   "metadata": {},
   "source": [
    "## 2.1 General syntax for lambda functions"
   ]
  },
  {
   "cell_type": "code",
   "execution_count": 42,
   "metadata": {},
   "outputs": [
    {
     "data": {
      "text/plain": [
       "['QSS20', 'QSS17']"
      ]
     },
     "execution_count": 42,
     "metadata": {},
     "output_type": "execute_result"
    },
    {
     "data": {
      "text/plain": [
       "[]"
      ]
     },
     "execution_count": 42,
     "metadata": {},
     "output_type": "execute_result"
    },
    {
     "data": {
      "text/plain": [
       "['BIO2']"
      ]
     },
     "execution_count": 42,
     "metadata": {},
     "output_type": "execute_result"
    },
    {
     "data": {
      "text/plain": [
       "['BIO2']"
      ]
     },
     "execution_count": 42,
     "metadata": {},
     "output_type": "execute_result"
    }
   ],
   "source": [
    "## generalize some of the steps\n",
    "## above into a two-arg function\n",
    "## that takes the course prefix\n",
    "## and a list of all courses\n",
    "def return_relcourses(prefix: str,\n",
    "                    all_courses: list):\n",
    "    rel_courses = [c for c in all_courses if prefix in c]\n",
    "    return(rel_courses)\n",
    "\n",
    "### execute on two pools of courses\n",
    "socsci = [\"QSS20\", \"QSS17\", \"GOV10\"]\n",
    "natsci = [\"BIO2\", \"PHYS3\"]\n",
    "\n",
    "### a few applications \n",
    "return_relcourses(prefix = \"QSS\", all_courses = socsci)\n",
    "return_relcourses(prefix = \"QSS\", all_courses = natsci)\n",
    "return_relcourses(prefix = \"BIO\", all_courses = natsci)\n",
    "\n",
    "## what's the lambda function version of this\n",
    "return_rel_courses_l = lambda prefix, all_courses: [c for c in all_courses if prefix in c]\n",
    "\n",
    "return_rel_courses_l(prefix = \"BIO\", all_courses = natsci)\n",
    "\n",
    "## didnt save us that much space then but in context of agg can help us\n",
    "## do things more quickly. in general, not super high priority"
   ]
  },
  {
   "cell_type": "markdown",
   "metadata": {},
   "source": [
    "## 2.2 using alongside agg"
   ]
  },
  {
   "cell_type": "code",
   "execution_count": 50,
   "metadata": {},
   "outputs": [
    {
     "data": {
      "text/plain": [
       "WARD\n",
       "1           3100 - 3299 BLOCK OF 14TH STREET NW\n",
       "2    1300 - 1699 BLOCK OF CONNECTICUT AVENUE NW\n",
       "3      5300 - 5399 BLOCK OF WISCONSIN AVENUE NW\n",
       "4          100 - 199 BLOCK OF CARROLL STREET NW\n",
       "5     900 - 999 BLOCK OF RHODE ISLAND AVENUE NE\n",
       "6                600 - 699 BLOCK OF H STREET NE\n",
       "7         934 - 1099 BLOCK OF EASTERN AVENUE NE\n",
       "8        2300 - 2399 BLOCK OF GOOD HOPE ROAD SE\n",
       "Name: BLOCK, dtype: object"
      ]
     },
     "execution_count": 50,
     "metadata": {},
     "output_type": "execute_result"
    },
    {
     "data": {
      "text/html": [
       "<div>\n",
       "<style scoped>\n",
       "    .dataframe tbody tr th:only-of-type {\n",
       "        vertical-align: middle;\n",
       "    }\n",
       "\n",
       "    .dataframe tbody tr th {\n",
       "        vertical-align: top;\n",
       "    }\n",
       "\n",
       "    .dataframe thead th {\n",
       "        text-align: right;\n",
       "    }\n",
       "</style>\n",
       "<table border=\"1\" class=\"dataframe\">\n",
       "  <thead>\n",
       "    <tr style=\"text-align: right;\">\n",
       "      <th></th>\n",
       "      <th>BLOCK</th>\n",
       "    </tr>\n",
       "    <tr>\n",
       "      <th>WARD</th>\n",
       "      <th></th>\n",
       "    </tr>\n",
       "  </thead>\n",
       "  <tbody>\n",
       "    <tr>\n",
       "      <th>1</th>\n",
       "      <td>3100 - 3299 BLOCK OF 14TH STREET NW</td>\n",
       "    </tr>\n",
       "    <tr>\n",
       "      <th>2</th>\n",
       "      <td>1300 - 1699 BLOCK OF CONNECTICUT AVENUE NW</td>\n",
       "    </tr>\n",
       "    <tr>\n",
       "      <th>3</th>\n",
       "      <td>5300 - 5399 BLOCK OF WISCONSIN AVENUE NW</td>\n",
       "    </tr>\n",
       "    <tr>\n",
       "      <th>4</th>\n",
       "      <td>100 - 199 BLOCK OF CARROLL STREET NW</td>\n",
       "    </tr>\n",
       "    <tr>\n",
       "      <th>5</th>\n",
       "      <td>900 - 999 BLOCK OF RHODE ISLAND AVENUE NE</td>\n",
       "    </tr>\n",
       "    <tr>\n",
       "      <th>6</th>\n",
       "      <td>600 - 699 BLOCK OF H STREET NE</td>\n",
       "    </tr>\n",
       "    <tr>\n",
       "      <th>7</th>\n",
       "      <td>934 - 1099 BLOCK OF EASTERN AVENUE NE</td>\n",
       "    </tr>\n",
       "    <tr>\n",
       "      <th>8</th>\n",
       "      <td>2300 - 2399 BLOCK OF GOOD HOPE ROAD SE</td>\n",
       "    </tr>\n",
       "  </tbody>\n",
       "</table>\n",
       "</div>"
      ],
      "text/plain": [
       "                                           BLOCK\n",
       "WARD                                            \n",
       "1            3100 - 3299 BLOCK OF 14TH STREET NW\n",
       "2     1300 - 1699 BLOCK OF CONNECTICUT AVENUE NW\n",
       "3       5300 - 5399 BLOCK OF WISCONSIN AVENUE NW\n",
       "4           100 - 199 BLOCK OF CARROLL STREET NW\n",
       "5      900 - 999 BLOCK OF RHODE ISLAND AVENUE NE\n",
       "6                 600 - 699 BLOCK OF H STREET NE\n",
       "7          934 - 1099 BLOCK OF EASTERN AVENUE NE\n",
       "8         2300 - 2399 BLOCK OF GOOD HOPE ROAD SE"
      ]
     },
     "execution_count": 50,
     "metadata": {},
     "output_type": "execute_result"
    }
   ],
   "source": [
    "## use lambda to find modal block in a ward- multiple ways\n",
    "\n",
    "### way 1: subsetting agg syntex\n",
    "dc_crim_2020.groupby(\"WARD\")[\"BLOCK\"].agg(lambda x: x.mode())\n",
    "\n",
    "### way 2: dictionary agg syntax\n",
    "dc_crim_2020.groupby(\"WARD\").agg({\"BLOCK\": lambda x: x.mode()}\n",
    "                                )\n"
   ]
  },
  {
   "cell_type": "markdown",
   "metadata": {},
   "source": [
    "#### ones with deliberate errors- run to see the error msg"
   ]
  },
  {
   "cell_type": "code",
   "execution_count": null,
   "metadata": {},
   "outputs": [],
   "source": [
    "### what happens if we try without lambda?\n",
    "### doesnt know that x == BLOCK series\n",
    "dc_crim_2020.groupby(\"WARD\").agg({\"BLOCK\": x.mode()}\n",
    "                                )\n"
   ]
  },
  {
   "cell_type": "code",
   "execution_count": null,
   "metadata": {},
   "outputs": [],
   "source": [
    "### what happens if we try to put mode in quotes\n",
    "### like a pandas built-in method?\n",
    "### mode isn't an attribute of a grouped series\n",
    "dc_crim_2020.groupby(\"WARD\").agg({\"BLOCK\": \"mode\"}\n",
    "                                )"
   ]
  },
  {
   "cell_type": "markdown",
   "metadata": {},
   "source": [
    "## 2.3 breaking down agg and similarities to tidyverse\n",
    "\n",
    "- Confused by what a grouped by object is and how we use it\n",
    "\n",
    "Let's break down groupby and agg into two separate steps for more insight under the hood"
   ]
  },
  {
   "cell_type": "code",
   "execution_count": 76,
   "metadata": {},
   "outputs": [
    {
     "data": {
      "text/plain": [
       "<pandas.core.groupby.generic.DataFrameGroupBy object at 0x7ff468bc6df0>"
      ]
     },
     "execution_count": 76,
     "metadata": {},
     "output_type": "execute_result"
    },
    {
     "name": "stdout",
     "output_type": "stream",
     "text": [
      "<class 'pandas.core.groupby.generic.DataFrameGroupBy'>\n"
     ]
    },
    {
     "data": {
      "text/html": [
       "<div>\n",
       "<style scoped>\n",
       "    .dataframe tbody tr th:only-of-type {\n",
       "        vertical-align: middle;\n",
       "    }\n",
       "\n",
       "    .dataframe tbody tr th {\n",
       "        vertical-align: top;\n",
       "    }\n",
       "\n",
       "    .dataframe thead th {\n",
       "        text-align: right;\n",
       "    }\n",
       "</style>\n",
       "<table border=\"1\" class=\"dataframe\">\n",
       "  <thead>\n",
       "    <tr style=\"text-align: right;\">\n",
       "      <th></th>\n",
       "      <th>LATITUDE</th>\n",
       "    </tr>\n",
       "    <tr>\n",
       "      <th>WARD</th>\n",
       "      <th></th>\n",
       "    </tr>\n",
       "  </thead>\n",
       "  <tbody>\n",
       "    <tr>\n",
       "      <th>1</th>\n",
       "      <td>38.924710</td>\n",
       "    </tr>\n",
       "    <tr>\n",
       "      <th>2</th>\n",
       "      <td>38.905938</td>\n",
       "    </tr>\n",
       "    <tr>\n",
       "      <th>3</th>\n",
       "      <td>38.941550</td>\n",
       "    </tr>\n",
       "    <tr>\n",
       "      <th>4</th>\n",
       "      <td>38.957667</td>\n",
       "    </tr>\n",
       "    <tr>\n",
       "      <th>5</th>\n",
       "      <td>38.920184</td>\n",
       "    </tr>\n",
       "    <tr>\n",
       "      <th>6</th>\n",
       "      <td>38.893125</td>\n",
       "    </tr>\n",
       "    <tr>\n",
       "      <th>7</th>\n",
       "      <td>38.888703</td>\n",
       "    </tr>\n",
       "    <tr>\n",
       "      <th>8</th>\n",
       "      <td>38.850529</td>\n",
       "    </tr>\n",
       "  </tbody>\n",
       "</table>\n",
       "</div>"
      ],
      "text/plain": [
       "       LATITUDE\n",
       "WARD           \n",
       "1     38.924710\n",
       "2     38.905938\n",
       "3     38.941550\n",
       "4     38.957667\n",
       "5     38.920184\n",
       "6     38.893125\n",
       "7     38.888703\n",
       "8     38.850529"
      ]
     },
     "execution_count": 76,
     "metadata": {},
     "output_type": "execute_result"
    }
   ],
   "source": [
    "## step 1: group by 1+ attributes (for R users, similar to df %>% group_by(x) in dplyr)\n",
    "dc_crim_groupbyward = dc_crim_2020.groupby(\"WARD\")\n",
    "\n",
    "dc_crim_groupbyward # type is a groupby object\n",
    "print(type(dc_crim_groupbyward)) \n",
    "\n",
    "## step 2: do something with the grouped dataframe \n",
    "### what we've covered: aggregation- here, finding\n",
    "### the mean latitude of crime reports within a DC ward\n",
    "## (for R users, similar to the next stage in the pipe where you summarize the grouped object,\n",
    "## eg df %>% group_by(x) %>% summarise(mean_lat = mean(LATITUDE)) %>% ungroup())\n",
    "dc_crim_groupbyward.agg({\"LATITUDE\": \"mean\"})\n",
    "\n",
    "### other things (not covered yet): iterate over groups"
   ]
  },
  {
   "cell_type": "markdown",
   "metadata": {},
   "source": [
    "## 2.4 agg versus apply\n",
    "\n",
    "Short answer to when to use which: whatever works is fine!\n",
    "    \n",
    "Longer answer: agg is especially useful for grouped dataframes (so summarizing some attribute across groups); apply for operating on the whole dataframe or select columns without grouping"
   ]
  },
  {
   "cell_type": "markdown",
   "metadata": {},
   "source": [
    "# 3. Questions: np.where,  np.select, is.in versus str.contains\n",
    "\n",
    "- When should we use or not use np.where? \n",
    "    - When to use: when creating new indicators (see example below of way to create without np.where)\n",
    "    - When not to use: if it becomes too deeply nested; shift to np.select or map.recode\n",
    "    \n",
    "- When should we use is.in versus str.contains?"
   ]
  },
  {
   "cell_type": "markdown",
   "metadata": {},
   "source": [
    "## 3.1 np.where and str.contains versus is.in \n",
    "\n",
    "In general, fine to do whatever works; is.in works better if you want to look inside a list; str.contains for simple regex"
   ]
  },
  {
   "cell_type": "code",
   "execution_count": 59,
   "metadata": {},
   "outputs": [
    {
     "data": {
      "text/plain": [
       "EVENING     12315\n",
       "DAY         10092\n",
       "MIDNIGHT     5508\n",
       "Name: SHIFT, dtype: int64"
      ]
     },
     "execution_count": 59,
     "metadata": {},
     "output_type": "execute_result"
    },
    {
     "data": {
      "text/plain": [
       "True     17823\n",
       "False    10092\n",
       "Name: is_evening_shift, dtype: int64"
      ]
     },
     "execution_count": 59,
     "metadata": {},
     "output_type": "execute_result"
    },
    {
     "data": {
      "text/plain": [
       "True     17823\n",
       "False    10092\n",
       "Name: is_evening_shift_alt1, dtype: int64"
      ]
     },
     "execution_count": 59,
     "metadata": {},
     "output_type": "execute_result"
    },
    {
     "data": {
      "text/plain": [
       "True     17823\n",
       "False    10092\n",
       "Name: is_evening_shift_alt2, dtype: int64"
      ]
     },
     "execution_count": 59,
     "metadata": {},
     "output_type": "execute_result"
    }
   ],
   "source": [
    "## view examples of police shift\n",
    "dc_crim_2020.SHIFT.value_counts()\n",
    "\n",
    "## example of multiple equivalent ways to create t/f indicator\n",
    "## for whether shift is in midnight or evening\n",
    "\n",
    "## way 1: omit np.where and just run is in condition\n",
    "dc_crim_2020['is_evening_shift'] = dc_crim_2020.SHIFT.isin([\"EVENING\", \"MIDNIGHT\"])\n",
    "dc_crim_2020.is_evening_shift.value_counts()\n",
    "\n",
    "## way 2: same as above using is.in but using np.where\n",
    "## reason? a bit easier to read\n",
    "dc_crim_2020['is_evening_shift_alt1'] = np.where(dc_crim_2020.SHIFT.isin([\"EVENING\", \"MIDNIGHT\"]),\n",
    "                                                 True, False)\n",
    "dc_crim_2020.is_evening_shift_alt1.value_counts()\n",
    "\n",
    "## way 3: np.where + str.contains rather than is in\n",
    "## main difference is instead of looking in a list,\n",
    "## I need to look for evening OR (|) midnight\n",
    "dc_crim_2020['is_evening_shift_alt2'] = np.where(dc_crim_2020.SHIFT.str.contains(\"EVENING|MIDNIGHT\"),\n",
    "                                                 True, False)\n",
    "dc_crim_2020.is_evening_shift_alt2.value_counts()"
   ]
  },
  {
   "cell_type": "markdown",
   "metadata": {},
   "source": [
    "#### deliberate errors\n",
    "\n",
    "run to see error"
   ]
  },
  {
   "cell_type": "code",
   "execution_count": null,
   "metadata": {},
   "outputs": [],
   "source": [
    "## what happens if we combine elements of str.contain with elements of is.in\n",
    "## throws error bc of incorrect syntax within str.contains (needs a single pattern\n",
    "## as an arg rather than a list)\n",
    "np.where(dc_crim_2020.SHIFT.str.contains([\"EVENING\", \"MIDNIGHT\"]),\n",
    "                            True, False)"
   ]
  },
  {
   "cell_type": "markdown",
   "metadata": {},
   "source": [
    "## 3.2 np.select\n",
    "\n",
    "Would run through example in the activity (creating the `offense_summary` variable)\n",
    "and ask any specific q's on Slack"
   ]
  },
  {
   "cell_type": "markdown",
   "metadata": {},
   "source": [
    "# 4: misc (why use copy? where does + sign on slide 28 come from when filtering columns, subsetting syntax)"
   ]
  },
  {
   "cell_type": "markdown",
   "metadata": {},
   "source": [
    "## 4.1 .copy() + subsetting rows\n",
    "\n",
    "- When to use? When subsetting rows or cols in a df and assigning them to a new object\n",
    "- When not to use? generally, I almost always use; but if you DONT use, you'll just get a warning rather than error"
   ]
  },
  {
   "cell_type": "code",
   "execution_count": null,
   "metadata": {},
   "outputs": [],
   "source": [
    "### deliberate issue"
   ]
  },
  {
   "cell_type": "code",
   "execution_count": 90,
   "metadata": {},
   "outputs": [
    {
     "name": "stderr",
     "output_type": "stream",
     "text": [
      "<ipython-input-90-4de378c9637f>:7: SettingWithCopyWarning: \n",
      "A value is trying to be set on a copy of a slice from a DataFrame.\n",
      "Try using .loc[row_indexer,col_indexer] = value instead\n",
      "\n",
      "See the caveats in the documentation: https://pandas.pydata.org/pandas-docs/stable/user_guide/indexing.html#returning-a-view-versus-a-copy\n",
      "  ward4_nocopy[\"is_day\"] = ward4_nocopy.SHIFT == \"DAY\"\n"
     ]
    }
   ],
   "source": [
    "## example: subsetting to ward 4 without copy\n",
    "### subset\n",
    "ward4_nocopy = dc_crim_2020[dc_crim_2020.WARD == 4]\n",
    "\n",
    "### get copy error warning when i do something else\n",
    "### to the ward4 df\n",
    "ward4_nocopy[\"is_day\"] = ward4_nocopy.SHIFT == \"DAY\""
   ]
  },
  {
   "cell_type": "code",
   "execution_count": 91,
   "metadata": {},
   "outputs": [],
   "source": [
    "### redoing but with copy \n",
    "ward4_withcopy = dc_crim_2020[dc_crim_2020.WARD == 4].copy()\n",
    "\n",
    "### get copy error warning when i do something else\n",
    "### to the ward8 df\n",
    "ward4_withcopy[\"is_day\"] = ward4_withcopy.SHIFT == \"DAY\"\n",
    "\n",
    "### yay no error :) "
   ]
  },
  {
   "cell_type": "markdown",
   "metadata": {},
   "source": [
    "## 4.2 subsetting data to specific columns- why the \"+\"\" in slide 28 syntax? + what did the last slide do\n"
   ]
  },
  {
   "cell_type": "code",
   "execution_count": 95,
   "metadata": {},
   "outputs": [
    {
     "data": {
      "text/html": [
       "<div>\n",
       "<style scoped>\n",
       "    .dataframe tbody tr th:only-of-type {\n",
       "        vertical-align: middle;\n",
       "    }\n",
       "\n",
       "    .dataframe tbody tr th {\n",
       "        vertical-align: top;\n",
       "    }\n",
       "\n",
       "    .dataframe thead th {\n",
       "        text-align: right;\n",
       "    }\n",
       "</style>\n",
       "<table border=\"1\" class=\"dataframe\">\n",
       "  <thead>\n",
       "    <tr style=\"text-align: right;\">\n",
       "      <th></th>\n",
       "      <th>student_id</th>\n",
       "      <th>gpa_2020</th>\n",
       "      <th>ncourses_2020</th>\n",
       "      <th>gpa_2021</th>\n",
       "      <th>ncourses_2021</th>\n",
       "    </tr>\n",
       "  </thead>\n",
       "  <tbody>\n",
       "    <tr>\n",
       "      <th>0</th>\n",
       "      <td>id1</td>\n",
       "      <td>3.4</td>\n",
       "      <td>8</td>\n",
       "      <td>3.8</td>\n",
       "      <td>8</td>\n",
       "    </tr>\n",
       "    <tr>\n",
       "      <th>1</th>\n",
       "      <td>id2</td>\n",
       "      <td>3.6</td>\n",
       "      <td>8</td>\n",
       "      <td>3.9</td>\n",
       "      <td>9</td>\n",
       "    </tr>\n",
       "    <tr>\n",
       "      <th>2</th>\n",
       "      <td>id3</td>\n",
       "      <td>3.1</td>\n",
       "      <td>8</td>\n",
       "      <td>3.9</td>\n",
       "      <td>9</td>\n",
       "    </tr>\n",
       "    <tr>\n",
       "      <th>3</th>\n",
       "      <td>id4</td>\n",
       "      <td>2.9</td>\n",
       "      <td>7</td>\n",
       "      <td>3.5</td>\n",
       "      <td>5</td>\n",
       "    </tr>\n",
       "  </tbody>\n",
       "</table>\n",
       "</div>"
      ],
      "text/plain": [
       "  student_id  gpa_2020  ncourses_2020  gpa_2021  ncourses_2021\n",
       "0        id1       3.4              8       3.8              8\n",
       "1        id2       3.6              8       3.9              9\n",
       "2        id3       3.1              8       3.9              9\n",
       "3        id4       2.9              7       3.5              5"
      ]
     },
     "execution_count": 95,
     "metadata": {},
     "output_type": "execute_result"
    },
    {
     "data": {
      "text/html": [
       "<div>\n",
       "<style scoped>\n",
       "    .dataframe tbody tr th:only-of-type {\n",
       "        vertical-align: middle;\n",
       "    }\n",
       "\n",
       "    .dataframe tbody tr th {\n",
       "        vertical-align: top;\n",
       "    }\n",
       "\n",
       "    .dataframe thead th {\n",
       "        text-align: right;\n",
       "    }\n",
       "</style>\n",
       "<table border=\"1\" class=\"dataframe\">\n",
       "  <thead>\n",
       "    <tr style=\"text-align: right;\">\n",
       "      <th></th>\n",
       "      <th>student_id</th>\n",
       "      <th>gpa_2021</th>\n",
       "      <th>ncourses_2021</th>\n",
       "    </tr>\n",
       "  </thead>\n",
       "  <tbody>\n",
       "    <tr>\n",
       "      <th>0</th>\n",
       "      <td>id1</td>\n",
       "      <td>3.8</td>\n",
       "      <td>8</td>\n",
       "    </tr>\n",
       "    <tr>\n",
       "      <th>1</th>\n",
       "      <td>id2</td>\n",
       "      <td>3.9</td>\n",
       "      <td>9</td>\n",
       "    </tr>\n",
       "    <tr>\n",
       "      <th>2</th>\n",
       "      <td>id3</td>\n",
       "      <td>3.9</td>\n",
       "      <td>9</td>\n",
       "    </tr>\n",
       "    <tr>\n",
       "      <th>3</th>\n",
       "      <td>id4</td>\n",
       "      <td>3.5</td>\n",
       "      <td>5</td>\n",
       "    </tr>\n",
       "  </tbody>\n",
       "</table>\n",
       "</div>"
      ],
      "text/plain": [
       "  student_id  gpa_2021  ncourses_2021\n",
       "0        id1       3.8              8\n",
       "1        id2       3.9              9\n",
       "2        id3       3.9              9\n",
       "3        id4       3.5              5"
      ]
     },
     "execution_count": 95,
     "metadata": {},
     "output_type": "execute_result"
    }
   ],
   "source": [
    "## let's create a fake dataset with two years worth of gpa\n",
    "## and units\n",
    "student_data = pd.DataFrame({'student_id': [\"id1\", \"id2\", \"id3\", \"id4\"], # can do more efficiently using sequence\n",
    "                            'gpa_2020': [3.4, 3.6, 3.1, 2.9],\n",
    "                             'ncourses_2020': [8, 8, 8, 7],\n",
    "                            'gpa_2021': [3.8, 3.9, 3.9, 3.5],\n",
    "                            'ncourses_2021': [8, 9, 9, 5]})\n",
    "\n",
    "student_data\n"
   ]
  },
  {
   "cell_type": "code",
   "execution_count": 96,
   "metadata": {},
   "outputs": [
    {
     "data": {
      "text/html": [
       "<div>\n",
       "<style scoped>\n",
       "    .dataframe tbody tr th:only-of-type {\n",
       "        vertical-align: middle;\n",
       "    }\n",
       "\n",
       "    .dataframe tbody tr th {\n",
       "        vertical-align: top;\n",
       "    }\n",
       "\n",
       "    .dataframe thead th {\n",
       "        text-align: right;\n",
       "    }\n",
       "</style>\n",
       "<table border=\"1\" class=\"dataframe\">\n",
       "  <thead>\n",
       "    <tr style=\"text-align: right;\">\n",
       "      <th></th>\n",
       "      <th>student_id</th>\n",
       "      <th>gpa_2021</th>\n",
       "      <th>ncourses_2021</th>\n",
       "    </tr>\n",
       "  </thead>\n",
       "  <tbody>\n",
       "    <tr>\n",
       "      <th>0</th>\n",
       "      <td>id1</td>\n",
       "      <td>3.8</td>\n",
       "      <td>8</td>\n",
       "    </tr>\n",
       "    <tr>\n",
       "      <th>1</th>\n",
       "      <td>id2</td>\n",
       "      <td>3.9</td>\n",
       "      <td>9</td>\n",
       "    </tr>\n",
       "    <tr>\n",
       "      <th>2</th>\n",
       "      <td>id3</td>\n",
       "      <td>3.9</td>\n",
       "      <td>9</td>\n",
       "    </tr>\n",
       "    <tr>\n",
       "      <th>3</th>\n",
       "      <td>id4</td>\n",
       "      <td>3.5</td>\n",
       "      <td>5</td>\n",
       "    </tr>\n",
       "  </tbody>\n",
       "</table>\n",
       "</div>"
      ],
      "text/plain": [
       "  student_id  gpa_2021  ncourses_2021\n",
       "0        id1       3.8              8\n",
       "1        id2       3.9              9\n",
       "2        id3       3.9              9\n",
       "3        id4       3.5              5"
      ]
     },
     "execution_count": 96,
     "metadata": {},
     "output_type": "execute_result"
    }
   ],
   "source": [
    "## long way to get just their 2021 grades and units\n",
    "student_data_21 = student_data[[\"student_id\", \"gpa_2021\", \"ncourses_2021\"]].copy()\n",
    "student_data_21\n"
   ]
  },
  {
   "cell_type": "code",
   "execution_count": 99,
   "metadata": {},
   "outputs": [
    {
     "data": {
      "text/plain": [
       "['gpa_2021', 'ncourses_2021']"
      ]
     },
     "execution_count": 99,
     "metadata": {},
     "output_type": "execute_result"
    },
    {
     "name": "stdout",
     "output_type": "stream",
     "text": [
      "<class 'list'>\n"
     ]
    },
    {
     "data": {
      "text/plain": [
       "['student_id', 'gpa_2021', 'ncourses_2021']"
      ]
     },
     "execution_count": 99,
     "metadata": {},
     "output_type": "execute_result"
    },
    {
     "name": "stdout",
     "output_type": "stream",
     "text": [
      "<class 'list'>\n"
     ]
    },
    {
     "data": {
      "text/html": [
       "<div>\n",
       "<style scoped>\n",
       "    .dataframe tbody tr th:only-of-type {\n",
       "        vertical-align: middle;\n",
       "    }\n",
       "\n",
       "    .dataframe tbody tr th {\n",
       "        vertical-align: top;\n",
       "    }\n",
       "\n",
       "    .dataframe thead th {\n",
       "        text-align: right;\n",
       "    }\n",
       "</style>\n",
       "<table border=\"1\" class=\"dataframe\">\n",
       "  <thead>\n",
       "    <tr style=\"text-align: right;\">\n",
       "      <th></th>\n",
       "      <th>student_id</th>\n",
       "      <th>gpa_2021</th>\n",
       "      <th>ncourses_2021</th>\n",
       "    </tr>\n",
       "  </thead>\n",
       "  <tbody>\n",
       "    <tr>\n",
       "      <th>0</th>\n",
       "      <td>id1</td>\n",
       "      <td>3.8</td>\n",
       "      <td>8</td>\n",
       "    </tr>\n",
       "    <tr>\n",
       "      <th>1</th>\n",
       "      <td>id2</td>\n",
       "      <td>3.9</td>\n",
       "      <td>9</td>\n",
       "    </tr>\n",
       "    <tr>\n",
       "      <th>2</th>\n",
       "      <td>id3</td>\n",
       "      <td>3.9</td>\n",
       "      <td>9</td>\n",
       "    </tr>\n",
       "    <tr>\n",
       "      <th>3</th>\n",
       "      <td>id4</td>\n",
       "      <td>3.5</td>\n",
       "      <td>5</td>\n",
       "    </tr>\n",
       "  </tbody>\n",
       "</table>\n",
       "</div>"
      ],
      "text/plain": [
       "  student_id  gpa_2021  ncourses_2021\n",
       "0        id1       3.8              8\n",
       "1        id2       3.9              9\n",
       "2        id3       3.9              9\n",
       "3        id4       3.5              5"
      ]
     },
     "execution_count": 99,
     "metadata": {},
     "output_type": "execute_result"
    }
   ],
   "source": [
    "## can make more efficient by using the fact that \n",
    "## 2021 is in both cols\n",
    "info_2021 = [col for col in student_data.columns\n",
    "            if \"2021\" in col]\n",
    "info_2021\n",
    "print(type(info_2021))\n",
    "\n",
    "## then, to subset to those cols + student_id,\n",
    "## I can add the lists together \n",
    "## to make a list with both (appending; multiple \n",
    "## ways to do)\n",
    "info_id_2021 = [\"student_id\"] + info_2021\n",
    "info_id_2021\n",
    "print(type(info_id_2021))\n",
    "\n",
    "## code on slide is just doing above in one step\n",
    "student_data_21_alt = student_data[[\"student_id\"] +\n",
    "                                [col for col in student_data.columns\n",
    "                                if \"2021\" in col]].copy()\n",
    "student_data_21_alt"
   ]
  }
 ],
 "metadata": {
  "kernelspec": {
   "display_name": "Python 3",
   "language": "python",
   "name": "python3"
  },
  "language_info": {
   "codemirror_mode": {
    "name": "ipython",
    "version": 3
   },
   "file_extension": ".py",
   "mimetype": "text/x-python",
   "name": "python",
   "nbconvert_exporter": "python",
   "pygments_lexer": "ipython3",
   "version": "3.8.3"
  }
 },
 "nbformat": 4,
 "nbformat_minor": 4
}
