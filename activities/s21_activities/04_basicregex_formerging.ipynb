{
 "cells": [
  {
   "cell_type": "code",
   "execution_count": 1,
   "metadata": {},
   "outputs": [],
   "source": [
    "import pandas as pd\n",
    "import re\n",
    "import numpy as np\n",
    "\n",
    "## print multiple things from same cell\n",
    "from IPython.core.interactiveshell import InteractiveShell\n",
    "InteractiveShell.ast_node_interactivity = \"all\""
   ]
  },
  {
   "cell_type": "markdown",
   "metadata": {},
   "source": [
    "# Load data and show examples"
   ]
  },
  {
   "cell_type": "code",
   "execution_count": 2,
   "metadata": {},
   "outputs": [],
   "source": [
    "cep_optin = pd.read_excel(\"https://frac.org/wp-content/uploads/2021SY-CEP_Database_Export.xlsx\")\n"
   ]
  },
  {
   "cell_type": "code",
   "execution_count": 3,
   "metadata": {},
   "outputs": [
    {
     "data": {
      "text/html": [
       "<div>\n",
       "<style scoped>\n",
       "    .dataframe tbody tr th:only-of-type {\n",
       "        vertical-align: middle;\n",
       "    }\n",
       "\n",
       "    .dataframe tbody tr th {\n",
       "        vertical-align: top;\n",
       "    }\n",
       "\n",
       "    .dataframe thead th {\n",
       "        text-align: right;\n",
       "    }\n",
       "</style>\n",
       "<table border=\"1\" class=\"dataframe\">\n",
       "  <thead>\n",
       "    <tr style=\"text-align: right;\">\n",
       "      <th></th>\n",
       "      <th>state</th>\n",
       "      <th>leaidwhereavailable</th>\n",
       "      <th>leaname</th>\n",
       "      <th>schoolidwhereavailable</th>\n",
       "      <th>schoolname</th>\n",
       "      <th>individualispjune2020</th>\n",
       "      <th>proxyispoctober2019</th>\n",
       "      <th>claimingispifparticipating</th>\n",
       "      <th>participatingincepsy2021</th>\n",
       "      <th>studentenrollmentwhereavailable</th>\n",
       "      <th>unnamed10</th>\n",
       "    </tr>\n",
       "  </thead>\n",
       "  <tbody>\n",
       "    <tr>\n",
       "      <th>0</th>\n",
       "      <td>Alabama</td>\n",
       "      <td>105-0000</td>\n",
       "      <td>Anniston City Board of Education</td>\n",
       "      <td>105-0010</td>\n",
       "      <td>Anniston High School</td>\n",
       "      <td>0.7873</td>\n",
       "      <td>NaN</td>\n",
       "      <td>NaN</td>\n",
       "      <td>N</td>\n",
       "      <td>457</td>\n",
       "      <td>NaN</td>\n",
       "    </tr>\n",
       "    <tr>\n",
       "      <th>1</th>\n",
       "      <td>Alabama</td>\n",
       "      <td>105-0000</td>\n",
       "      <td>Anniston City Board of Education</td>\n",
       "      <td>105-0015</td>\n",
       "      <td>Anniston Middle School</td>\n",
       "      <td>0.7873</td>\n",
       "      <td>NaN</td>\n",
       "      <td>NaN</td>\n",
       "      <td>N</td>\n",
       "      <td>340</td>\n",
       "      <td>NaN</td>\n",
       "    </tr>\n",
       "    <tr>\n",
       "      <th>2</th>\n",
       "      <td>Alabama</td>\n",
       "      <td>105-0000</td>\n",
       "      <td>Anniston City Board of Education</td>\n",
       "      <td>105-0025</td>\n",
       "      <td>Cobb Pre-K Academy</td>\n",
       "      <td>0.7873</td>\n",
       "      <td>NaN</td>\n",
       "      <td>NaN</td>\n",
       "      <td>N</td>\n",
       "      <td>139</td>\n",
       "      <td>NaN</td>\n",
       "    </tr>\n",
       "    <tr>\n",
       "      <th>3</th>\n",
       "      <td>Alabama</td>\n",
       "      <td>105-0000</td>\n",
       "      <td>Anniston City Board of Education</td>\n",
       "      <td>105-0060</td>\n",
       "      <td>Golden Springs Elem School</td>\n",
       "      <td>0.7873</td>\n",
       "      <td>NaN</td>\n",
       "      <td>NaN</td>\n",
       "      <td>N</td>\n",
       "      <td>371</td>\n",
       "      <td>NaN</td>\n",
       "    </tr>\n",
       "    <tr>\n",
       "      <th>4</th>\n",
       "      <td>Alabama</td>\n",
       "      <td>105-0000</td>\n",
       "      <td>Anniston City Board of Education</td>\n",
       "      <td>105-0110</td>\n",
       "      <td>Randolph Park Elem School</td>\n",
       "      <td>0.7873</td>\n",
       "      <td>NaN</td>\n",
       "      <td>NaN</td>\n",
       "      <td>N</td>\n",
       "      <td>320</td>\n",
       "      <td>NaN</td>\n",
       "    </tr>\n",
       "  </tbody>\n",
       "</table>\n",
       "</div>"
      ],
      "text/plain": [
       "     state leaidwhereavailable                           leaname  \\\n",
       "0  Alabama            105-0000  Anniston City Board of Education   \n",
       "1  Alabama            105-0000  Anniston City Board of Education   \n",
       "2  Alabama            105-0000  Anniston City Board of Education   \n",
       "3  Alabama            105-0000  Anniston City Board of Education   \n",
       "4  Alabama            105-0000  Anniston City Board of Education   \n",
       "\n",
       "  schoolidwhereavailable                  schoolname individualispjune2020  \\\n",
       "0               105-0010        Anniston High School                0.7873   \n",
       "1               105-0015      Anniston Middle School                0.7873   \n",
       "2               105-0025          Cobb Pre-K Academy                0.7873   \n",
       "3               105-0060  Golden Springs Elem School                0.7873   \n",
       "4               105-0110   Randolph Park Elem School                0.7873   \n",
       "\n",
       "  proxyispoctober2019 claimingispifparticipating participatingincepsy2021  \\\n",
       "0                 NaN                        NaN                        N   \n",
       "1                 NaN                        NaN                        N   \n",
       "2                 NaN                        NaN                        N   \n",
       "3                 NaN                        NaN                        N   \n",
       "4                 NaN                        NaN                        N   \n",
       "\n",
       "  studentenrollmentwhereavailable  unnamed10  \n",
       "0                             457        NaN  \n",
       "1                             340        NaN  \n",
       "2                             139        NaN  \n",
       "3                             371        NaN  \n",
       "4                             320        NaN  "
      ]
     },
     "execution_count": 3,
     "metadata": {},
     "output_type": "execute_result"
    },
    {
     "data": {
      "text/plain": [
       "33114                paint branch elementary\n",
       "21654       stewart county elementary school\n",
       "15127        stove prairie elementary school\n",
       "75308    winchester avenue elementary school\n",
       "41410                         oak hill elem.\n",
       "41527                  lewis and clark elem.\n",
       "25420                   saunemin elem school\n",
       "22656       desert springs elementary school\n",
       "32269              fifth district elementary\n",
       "59726               linden elementary school\n",
       "Name: schoolname_lower, dtype: object"
      ]
     },
     "execution_count": 3,
     "metadata": {},
     "output_type": "execute_result"
    }
   ],
   "source": [
    "## clean colnames\n",
    "new_colnames = [re.sub(\"[^A-Za-z0-9]+\", \"\", col.lower()) for col in cep_optin.columns]\n",
    "\n",
    "## add back\n",
    "cep_optin.columns = new_colnames\n",
    "\n",
    "cep_optin.head()\n",
    "\n",
    "cep_optin['schoolname_lower'] = cep_optin.schoolname.str.lower()\n",
    "\n",
    "## check whether name of school contains\n",
    "## space followed by elem*\n",
    "cep_optin['is_elem'] = np.where(cep_optin.schoolname_lower.str.contains(\"\\s+elem\", regex = True),\n",
    "                True, False)\n",
    "\n",
    "\n",
    "test_schools = cep_optin.loc[(cep_optin.is_elem) &\n",
    "               (cep_optin.schoolname_lower.str.contains(\"elem\\\\.\")) |\n",
    "               (cep_optin.schoolname_lower.str.contains(\"elem\")) |\n",
    "               (cep_optin.schoolname_lower.str.contains(\"elementary\")) |\n",
    "               (cep_optin.schoolname_lower.str.contains(\"esd\")),\n",
    "            'schoolname_lower'].sample(n = 30, random_state = 470)\n",
    "\n",
    "test_schools_show = test_schools.iloc[13:23]\n",
    "\n",
    "test_schools_show"
   ]
  },
  {
   "cell_type": "markdown",
   "metadata": {},
   "source": [
    "# Re.sub illustrations\n",
    "\n",
    "**Task**: for the `schoolname` field, replace the different varieties of elementary school with `elemschool` in the field"
   ]
  },
  {
   "cell_type": "markdown",
   "metadata": {},
   "source": [
    "## Incorrect approach \n",
    "\n",
    "Returns incorrect results that we'll see below"
   ]
  },
  {
   "cell_type": "code",
   "execution_count": 4,
   "metadata": {},
   "outputs": [
    {
     "data": {
      "text/html": [
       "<div>\n",
       "<style scoped>\n",
       "    .dataframe tbody tr th:only-of-type {\n",
       "        vertical-align: middle;\n",
       "    }\n",
       "\n",
       "    .dataframe tbody tr th {\n",
       "        vertical-align: top;\n",
       "    }\n",
       "\n",
       "    .dataframe thead th {\n",
       "        text-align: right;\n",
       "    }\n",
       "</style>\n",
       "<table border=\"1\" class=\"dataframe\">\n",
       "  <thead>\n",
       "    <tr style=\"text-align: right;\">\n",
       "      <th></th>\n",
       "      <th>orig_name</th>\n",
       "      <th>cleaned_name</th>\n",
       "    </tr>\n",
       "  </thead>\n",
       "  <tbody>\n",
       "    <tr>\n",
       "      <th>33114</th>\n",
       "      <td>paint branch elementary</td>\n",
       "      <td>paint branch elemschool</td>\n",
       "    </tr>\n",
       "    <tr>\n",
       "      <th>21654</th>\n",
       "      <td>stewart county elementary school</td>\n",
       "      <td>stewart county elemschool school</td>\n",
       "    </tr>\n",
       "    <tr>\n",
       "      <th>15127</th>\n",
       "      <td>stove prairie elementary school</td>\n",
       "      <td>stove prairie elemschool school</td>\n",
       "    </tr>\n",
       "    <tr>\n",
       "      <th>75308</th>\n",
       "      <td>winchester avenue elementary school</td>\n",
       "      <td>winchester avenue elemschool school</td>\n",
       "    </tr>\n",
       "    <tr>\n",
       "      <th>41410</th>\n",
       "      <td>oak hill elem.</td>\n",
       "      <td>oak hill elemschool.</td>\n",
       "    </tr>\n",
       "    <tr>\n",
       "      <th>41527</th>\n",
       "      <td>lewis and clark elem.</td>\n",
       "      <td>lewis and clark elemschool.</td>\n",
       "    </tr>\n",
       "    <tr>\n",
       "      <th>25420</th>\n",
       "      <td>saunemin elem school</td>\n",
       "      <td>saunemin elemschool school</td>\n",
       "    </tr>\n",
       "    <tr>\n",
       "      <th>22656</th>\n",
       "      <td>desert springs elementary school</td>\n",
       "      <td>desert springs elemschool school</td>\n",
       "    </tr>\n",
       "    <tr>\n",
       "      <th>32269</th>\n",
       "      <td>fifth district elementary</td>\n",
       "      <td>fifth district elemschool</td>\n",
       "    </tr>\n",
       "    <tr>\n",
       "      <th>59726</th>\n",
       "      <td>linden elementary school</td>\n",
       "      <td>linden elemschool school</td>\n",
       "    </tr>\n",
       "  </tbody>\n",
       "</table>\n",
       "</div>"
      ],
      "text/plain": [
       "                                 orig_name  \\\n",
       "33114              paint branch elementary   \n",
       "21654     stewart county elementary school   \n",
       "15127      stove prairie elementary school   \n",
       "75308  winchester avenue elementary school   \n",
       "41410                       oak hill elem.   \n",
       "41527                lewis and clark elem.   \n",
       "25420                 saunemin elem school   \n",
       "22656     desert springs elementary school   \n",
       "32269            fifth district elementary   \n",
       "59726             linden elementary school   \n",
       "\n",
       "                              cleaned_name  \n",
       "33114              paint branch elemschool  \n",
       "21654     stewart county elemschool school  \n",
       "15127      stove prairie elemschool school  \n",
       "75308  winchester avenue elemschool school  \n",
       "41410                 oak hill elemschool.  \n",
       "41527          lewis and clark elemschool.  \n",
       "25420           saunemin elemschool school  \n",
       "22656     desert springs elemschool school  \n",
       "32269            fifth district elemschool  \n",
       "59726             linden elemschool school  "
      ]
     },
     "execution_count": 4,
     "metadata": {},
     "output_type": "execute_result"
    }
   ],
   "source": [
    "elem_pattern = r\"elementary|elem|elem\\\\.|elementary school\"\n",
    "\n",
    "new_schools = [re.sub(elem_pattern, \"elemschool\", school) for school in test_schools_show]\n",
    "\n",
    "old_and_new = pd.DataFrame({'orig_name': test_schools_show,\n",
    "                           'cleaned_name': new_schools})\n",
    "\n",
    "#print(old_and_new.to_latex(index = False))\n",
    "old_and_new"
   ]
  },
  {
   "cell_type": "markdown",
   "metadata": {},
   "source": [
    "### Question in class: would it work to change order of OR statement?\n"
   ]
  },
  {
   "cell_type": "markdown",
   "metadata": {},
   "source": [
    "Answer: it gets closer (e.g., stewart county and stove prairie are fixed!) still have an issue with those with elem."
   ]
  },
  {
   "cell_type": "code",
   "execution_count": 6,
   "metadata": {},
   "outputs": [
    {
     "data": {
      "text/plain": [
       "['paint branch elemschool',\n",
       " 'stewart county elemschool',\n",
       " 'stove prairie elemschool',\n",
       " 'winchester avenue elemschool',\n",
       " 'oak hill elemschool.',\n",
       " 'lewis and clark elemschool.',\n",
       " 'saunemin elemschool school',\n",
       " 'desert springs elemschool',\n",
       " 'fifth district elemschool',\n",
       " 'linden elemschool']"
      ]
     },
     "execution_count": 6,
     "metadata": {},
     "output_type": "execute_result"
    }
   ],
   "source": [
    "elem_pattern_difforder = r\"elementary school|elementary|elem\\\\.|elem\"\n",
    "\n",
    "new_schools_difforder = [re.sub(elem_pattern_difforder, \"elemschool\", school) for school in test_schools_show]\n",
    "\n",
    "new_schools_difforder"
   ]
  },
  {
   "cell_type": "markdown",
   "metadata": {},
   "source": [
    "## A correct approach\n",
    "\n",
    "Addresses issues above with `elementary school` and `elem.`"
   ]
  },
  {
   "cell_type": "code",
   "execution_count": 23,
   "metadata": {},
   "outputs": [
    {
     "data": {
      "text/html": [
       "<div>\n",
       "<style scoped>\n",
       "    .dataframe tbody tr th:only-of-type {\n",
       "        vertical-align: middle;\n",
       "    }\n",
       "\n",
       "    .dataframe tbody tr th {\n",
       "        vertical-align: top;\n",
       "    }\n",
       "\n",
       "    .dataframe thead th {\n",
       "        text-align: right;\n",
       "    }\n",
       "</style>\n",
       "<table border=\"1\" class=\"dataframe\">\n",
       "  <thead>\n",
       "    <tr style=\"text-align: right;\">\n",
       "      <th></th>\n",
       "      <th>orig_name</th>\n",
       "      <th>cleaned_name</th>\n",
       "    </tr>\n",
       "  </thead>\n",
       "  <tbody>\n",
       "    <tr>\n",
       "      <th>33114</th>\n",
       "      <td>paint branch elementary</td>\n",
       "      <td>paint branch elemschool</td>\n",
       "    </tr>\n",
       "    <tr>\n",
       "      <th>21654</th>\n",
       "      <td>stewart county elementary school</td>\n",
       "      <td>stewart county elemschool</td>\n",
       "    </tr>\n",
       "    <tr>\n",
       "      <th>15127</th>\n",
       "      <td>stove prairie elementary school</td>\n",
       "      <td>stove prairie elemschool</td>\n",
       "    </tr>\n",
       "    <tr>\n",
       "      <th>75308</th>\n",
       "      <td>winchester avenue elementary school</td>\n",
       "      <td>winchester avenue elemschool</td>\n",
       "    </tr>\n",
       "    <tr>\n",
       "      <th>41410</th>\n",
       "      <td>oak hill elem.</td>\n",
       "      <td>oak hill elemschool</td>\n",
       "    </tr>\n",
       "    <tr>\n",
       "      <th>41527</th>\n",
       "      <td>lewis and clark elem.</td>\n",
       "      <td>lewis and clark elemschool</td>\n",
       "    </tr>\n",
       "    <tr>\n",
       "      <th>25420</th>\n",
       "      <td>saunemin elem school</td>\n",
       "      <td>saunemin elemschool</td>\n",
       "    </tr>\n",
       "    <tr>\n",
       "      <th>22656</th>\n",
       "      <td>desert springs elementary school</td>\n",
       "      <td>desert springs elemschool</td>\n",
       "    </tr>\n",
       "    <tr>\n",
       "      <th>32269</th>\n",
       "      <td>fifth district elementary</td>\n",
       "      <td>fifth district elemschool</td>\n",
       "    </tr>\n",
       "    <tr>\n",
       "      <th>59726</th>\n",
       "      <td>linden elementary school</td>\n",
       "      <td>linden elemschool</td>\n",
       "    </tr>\n",
       "  </tbody>\n",
       "</table>\n",
       "</div>"
      ],
      "text/plain": [
       "                                 orig_name                  cleaned_name\n",
       "33114              paint branch elementary       paint branch elemschool\n",
       "21654     stewart county elementary school     stewart county elemschool\n",
       "15127      stove prairie elementary school      stove prairie elemschool\n",
       "75308  winchester avenue elementary school  winchester avenue elemschool\n",
       "41410                       oak hill elem.           oak hill elemschool\n",
       "41527                lewis and clark elem.    lewis and clark elemschool\n",
       "25420                 saunemin elem school           saunemin elemschool\n",
       "22656     desert springs elementary school     desert springs elemschool\n",
       "32269            fifth district elementary     fifth district elemschool\n",
       "59726             linden elementary school             linden elemschool"
      ]
     },
     "execution_count": 23,
     "metadata": {},
     "output_type": "execute_result"
    }
   ],
   "source": [
    "elem_pattern_try2 = r\"(elem.*)(\\s+)?(school)?\"\n",
    "    \n",
    "new_schools_try2 = [re.sub(elem_pattern_try2, \"elemschool\", school) \n",
    "                   for school in test_schools_show]    \n",
    "\n",
    "\n",
    "old_and_new_try2 = pd.DataFrame({'orig_name': test_schools_show,\n",
    "                           'cleaned_name': new_schools_try2})\n",
    "\n",
    "#print(old_and_new_try2.to_latex(index = False))\n",
    "old_and_new_try2"
   ]
  },
  {
   "cell_type": "markdown",
   "metadata": {},
   "source": [
    "## Question from class - how do we tell re.something to ignore the case?\n",
    "\n",
    "Answer: optional argument inside re: `flags = re.IGNORECASE` to ignore the case"
   ]
  },
  {
   "cell_type": "code",
   "execution_count": 29,
   "metadata": {},
   "outputs": [
    {
     "data": {
      "text/plain": [
       "44664                      Madison Ave\n",
       "51821            Jackson Co Sch of Alt\n",
       "64908                     Oak Grove El\n",
       "51553              Bessemer Elementary\n",
       "27008           St. Joan of Arc School\n",
       "26039          Clarksville High School\n",
       "5334            WEST STREET ELEMENTARY\n",
       "2163     Queen Creek Elementary School\n",
       "49202           P.S. 8 Shirlee Solomon\n",
       "29013                 Troy High School\n",
       "Name: schoolname, dtype: object"
      ]
     },
     "execution_count": 29,
     "metadata": {},
     "output_type": "execute_result"
    },
    {
     "data": {
      "text/plain": [
       "['Madison Ave',\n",
       " 'Jackson Co Sch of Alt',\n",
       " 'Oak Grove El',\n",
       " 'Bessemer elemschool',\n",
       " 'St. Joan of Arc School',\n",
       " 'Clarksville High School',\n",
       " 'WEST STREET elemschool',\n",
       " 'Queen Creek elemschool',\n",
       " 'P.S. 8 Shirlee Solomon',\n",
       " 'Troy High School']"
      ]
     },
     "execution_count": 29,
     "metadata": {},
     "output_type": "execute_result"
    }
   ],
   "source": [
    "orig_case_schools = cep_optin.schoolname.sample(n = 10, random_state = 54)\n",
    "\n",
    "orig_case_schools\n",
    "\n",
    "## do same pattern but with the re.ignorecase\n",
    "orig_case_schools_sub = [re.sub(elem_pattern_try2, \"elemschool\", school, flags=re.IGNORECASE) \n",
    "                           for school in orig_case_schools]\n",
    "\n",
    "\n",
    "## see that it matches things like Elementary despite capitalization\n",
    "## leaves the capitalization the same but just does the replacement despite that\n",
    "orig_case_schools_sub\n",
    "\n",
    "## example also shows we may want to modify pattern to capture things like El"
   ]
  },
  {
   "cell_type": "markdown",
   "metadata": {},
   "source": [
    "# re.findall and re.search illustrations"
   ]
  },
  {
   "cell_type": "markdown",
   "metadata": {},
   "source": [
    "**Task**: want to create pattern that, for charter schools, allows us to extract the school name prior to the appearance of charter. School names without charter will not have matches"
   ]
  },
  {
   "cell_type": "markdown",
   "metadata": {},
   "source": [
    "## re.findall "
   ]
  },
  {
   "cell_type": "code",
   "execution_count": 9,
   "metadata": {},
   "outputs": [
    {
     "data": {
      "text/plain": [
       "['rebeccajohnson8', 'rebeccajohnson88', 'rebeccajohnson796']"
      ]
     },
     "execution_count": 9,
     "metadata": {},
     "output_type": "execute_result"
    }
   ],
   "source": [
    "\n",
    "test_patterns = [\"rebeccajohnson8\", \"rebeccajohnson88\", \"rebeccajohnson796\"]\n",
    "\n",
    "[re.findall(r\"[a-z]+\\d+\", pat)[0] for pat in test_patterns]"
   ]
  },
  {
   "cell_type": "code",
   "execution_count": 10,
   "metadata": {},
   "outputs": [
    {
     "data": {
      "text/plain": [
       "['buffalo collegiate charter school',\n",
       " 'thomas edison charter academy                                   ',\n",
       " 'moving everest charter school',\n",
       " 'life source international charter',\n",
       " 'south valley academy charter school',\n",
       " 'neighborhood charter school of harle',\n",
       " 'brighter choice charter school-girls',\n",
       " \"children's community charter\",\n",
       " 'frontier elementary school',\n",
       " 'columbus humanities, arts and technology academy',\n",
       " 'okemos public montessori-central',\n",
       " 'pawhuska es',\n",
       " 'east valley senior high',\n",
       " 'glenpool es',\n",
       " 'number 27',\n",
       " 'south fork elementary']"
      ]
     },
     "execution_count": 10,
     "metadata": {},
     "output_type": "execute_result"
    }
   ],
   "source": [
    "## pull some charter examples and other examples\n",
    "charter_examples = cep_optin.schoolname_lower[cep_optin.schoolname_lower.astype(str).str.contains(\"charter\")].sample(n = 8,\n",
    "                    random_state = 422).to_list()\n",
    "other_examples = cep_optin.schoolname_lower[~cep_optin.schoolname_lower.astype(str).str.contains(\"charter\")].sample(n = 8,\n",
    "                    random_state = 422).to_list()\n",
    "\n",
    "\n",
    "combined_examples = charter_examples + other_examples\n",
    "combined_examples\n"
   ]
  },
  {
   "cell_type": "code",
   "execution_count": 11,
   "metadata": {},
   "outputs": [
    {
     "data": {
      "text/plain": [
       "[[('buffalo collegiate', 'charter', ' ', 'school')],\n",
       " [('thomas edison', 'charter', ' ', 'academy')],\n",
       " [('moving everest', 'charter', ' ', 'school')],\n",
       " [('life source international', 'charter', '', '')],\n",
       " [('south valley academy', 'charter', ' ', 'school')],\n",
       " [('neighborhood', 'charter', ' ', 'school')],\n",
       " [('brighter choice', 'charter', ' ', 'school')],\n",
       " [(\"children's community\", 'charter', '', '')],\n",
       " [],\n",
       " [],\n",
       " [],\n",
       " [],\n",
       " [],\n",
       " [],\n",
       " [],\n",
       " []]"
      ]
     },
     "execution_count": 11,
     "metadata": {},
     "output_type": "execute_result"
    }
   ],
   "source": [
    "## charter pattern\n",
    "charter_pattern = r\"(.*)\\s+(charter)(\\s+)?(\\w+)?\"\n",
    "\n",
    "## findall \n",
    "test_charter_findall = [re.findall(charter_pattern, \n",
    "                    school) for school in combined_examples]\n",
    "\n",
    "## print result\n",
    "test_charter_findall\n",
    "\n"
   ]
  },
  {
   "cell_type": "code",
   "execution_count": 12,
   "metadata": {},
   "outputs": [
    {
     "name": "stdout",
     "output_type": "stream",
     "text": [
      "buffalo collegiate\n"
     ]
    }
   ],
   "source": [
    "## show example of one\n",
    "print(test_charter_findall[0][0][0])"
   ]
  },
  {
   "cell_type": "markdown",
   "metadata": {},
   "source": [
    "## re.search"
   ]
  },
  {
   "cell_type": "code",
   "execution_count": 13,
   "metadata": {},
   "outputs": [
    {
     "data": {
      "text/plain": [
       "[<re.Match object; span=(0, 33), match='buffalo collegiate charter school'>,\n",
       " <re.Match object; span=(0, 29), match='thomas edison charter academy'>,\n",
       " <re.Match object; span=(0, 29), match='moving everest charter school'>,\n",
       " <re.Match object; span=(0, 33), match='life source international charter'>,\n",
       " <re.Match object; span=(0, 35), match='south valley academy charter school'>,\n",
       " <re.Match object; span=(0, 27), match='neighborhood charter school'>,\n",
       " <re.Match object; span=(0, 30), match='brighter choice charter school'>,\n",
       " <re.Match object; span=(0, 28), match=\"children's community charter\">,\n",
       " None,\n",
       " None,\n",
       " None,\n",
       " None,\n",
       " None,\n",
       " None,\n",
       " None,\n",
       " None]"
      ]
     },
     "execution_count": 13,
     "metadata": {},
     "output_type": "execute_result"
    }
   ],
   "source": [
    "## get matches\n",
    "test_charter_search = [re.search(charter_pattern, \n",
    "                    school) for school in combined_examples]\n",
    "\n",
    "test_charter_search\n"
   ]
  },
  {
   "cell_type": "code",
   "execution_count": 14,
   "metadata": {},
   "outputs": [
    {
     "data": {
      "text/plain": [
       "<re.Match object; span=(0, 29), match='thomas edison charter academy'>"
      ]
     },
     "execution_count": 14,
     "metadata": {},
     "output_type": "execute_result"
    },
    {
     "data": {
      "text/plain": [
       "'thomas edison'"
      ]
     },
     "execution_count": 14,
     "metadata": {},
     "output_type": "execute_result"
    }
   ],
   "source": [
    "## extract matches\n",
    "\n",
    "### here, we're just focusing on the 2nd match (thomas edison charter academy)\n",
    "### and we're getting the first group from that match\n",
    "thomas_match = test_charter_search[1]\n",
    "thomas_match\n",
    "\n",
    "### example where we're just getting the first group\n",
    "### (name of school before charter)\n",
    "thomas_firstgroup = thomas_match.group(1)\n",
    "thomas_firstgroup\n"
   ]
  },
  {
   "cell_type": "code",
   "execution_count": 15,
   "metadata": {},
   "outputs": [
    {
     "name": "stdout",
     "output_type": "stream",
     "text": [
      "Group 0 is: \n",
      "thomas edison charter academy\n",
      "Group 1 is: \n",
      "thomas edison\n",
      "Group 2 is: \n",
      "charter\n",
      "Group 3 is: \n",
      " \n",
      "Group 4 is: \n",
      "academy\n"
     ]
    }
   ],
   "source": [
    "### iterate over all groups and print\n",
    "for i in range(0, len(thomas_match.groups())+1):\n",
    "    print(\"Group \" + str(i) + \" is: \")\n",
    "    print(thomas_match.group(i))\n",
    "\n",
    "## see error if we go beyond actual number of \n",
    "## groups thomas_match.group(5)"
   ]
  },
  {
   "cell_type": "markdown",
   "metadata": {},
   "source": [
    "## Question from class - is there a way to pull multiple matched groups at one by feeding .group() something like a list of indices\n",
    "\n",
    "Response: if you do object.groups() with no index fed, it returns a tuple of groups. You can then slices/subset that tuple using indices"
   ]
  },
  {
   "cell_type": "code",
   "execution_count": 22,
   "metadata": {},
   "outputs": [
    {
     "data": {
      "text/plain": [
       "('thomas edison', 'charter', ' ', 'academy')"
      ]
     },
     "execution_count": 22,
     "metadata": {},
     "output_type": "execute_result"
    },
    {
     "data": {
      "text/plain": [
       "('thomas edison', 'charter')"
      ]
     },
     "execution_count": 22,
     "metadata": {},
     "output_type": "execute_result"
    },
    {
     "data": {
      "text/plain": [
       "('thomas edison', 'charter')"
      ]
     },
     "execution_count": 22,
     "metadata": {},
     "output_type": "execute_result"
    }
   ],
   "source": [
    "## example- want to return group 1 and group 2 and paste together\n",
    "thomas_groups_all = thomas_match.groups()\n",
    "thomas_groups_all\n",
    "\n",
    "## slice the tuple\n",
    "thomas_groups_all[0:2]\n",
    "\n",
    "## do in one step\n",
    "\n",
    "\n",
    "thomas_groups_12 = thomas_match.groups()[0:2]\n",
    "thomas_groups_12"
   ]
  },
  {
   "cell_type": "code",
   "execution_count": 138,
   "metadata": {},
   "outputs": [
    {
     "data": {
      "text/plain": [
       "['buffalo collegiate',\n",
       " 'thomas edison',\n",
       " 'moving everest',\n",
       " 'life source international',\n",
       " 'south valley academy',\n",
       " 'neighborhood',\n",
       " 'brighter choice',\n",
       " \"children's community\",\n",
       " '',\n",
       " '',\n",
       " '',\n",
       " '',\n",
       " '',\n",
       " '',\n",
       " '',\n",
       " '']"
      ]
     },
     "execution_count": 138,
     "metadata": {},
     "output_type": "execute_result"
    }
   ],
   "source": [
    "## can generalize to the full list with ifelse\n",
    "def get_precharter_name(one_matchobj):\n",
    "    \n",
    "    if one_matchobj:\n",
    "        school_name = one_matchobj.group(1)\n",
    "    else:\n",
    "        school_name = \"\"\n",
    "    \n",
    "    return(school_name)\n",
    "\n",
    "all_charter_match = [get_precharter_name(one_search) \n",
    "                    for one_search in test_charter_search]\n",
    "\n",
    "all_charter_match"
   ]
  },
  {
   "cell_type": "markdown",
   "metadata": {},
   "source": [
    "# Group activity\n",
    "\n",
    "- Return to the full list of school names in the original data\n",
    "- You want to find the names of high schools. Try out some patterns to standardize the high school names (e.g., `high school` and `high` could both become `highschool`)\n",
    "- Then, using some example results, try writing a regex pattern and using re.match to get the name of the school that precedes the `highschool` part of the name (e.g., `new trier highschool` -> `new trier`)\n",
    "\n"
   ]
  },
  {
   "cell_type": "markdown",
   "metadata": {},
   "source": [
    "### Standardizing high school name"
   ]
  },
  {
   "cell_type": "code",
   "execution_count": 32,
   "metadata": {},
   "outputs": [
    {
     "data": {
      "text/plain": [
       "['mount pleasant area jshs',\n",
       " 'huron high school',\n",
       " 'thomson high school',\n",
       " 'kings county office of education highland facility',\n",
       " 'clovis east high',\n",
       " 'camden jr. high school',\n",
       " 'jackson junior high',\n",
       " 'emmett junior high school',\n",
       " 'atkins high',\n",
       " 'lexington senior high',\n",
       " 'temple hs',\n",
       " 'forest hill high school',\n",
       " 'pittsfield high',\n",
       " 'matanzas high school',\n",
       " 'pontiac high school']"
      ]
     },
     "execution_count": 32,
     "metadata": {},
     "output_type": "execute_result"
    }
   ],
   "source": [
    "\n",
    "### first pull out some examples to test one\n",
    "hs_examples = cep_optin.schoolname_lower[cep_optin.schoolname_lower.astype(str).str.contains(\"high|hs\")].sample(n = 15,\n",
    "                    random_state = 422).to_list()\n",
    "\n",
    "hs_examples\n"
   ]
  },
  {
   "cell_type": "code",
   "execution_count": 39,
   "metadata": {},
   "outputs": [
    {
     "data": {
      "text/plain": [
       "['mount pleasant area jshs',\n",
       " 'huron highschool',\n",
       " 'thomson highschool',\n",
       " 'kings county office of education highland facility',\n",
       " 'clovis east highschool',\n",
       " 'camden jr. highschool',\n",
       " 'jackson junior highschool',\n",
       " 'emmett junior highschool',\n",
       " 'atkins highschool',\n",
       " 'lexington senior highschool',\n",
       " 'temple highschool',\n",
       " 'forest hill highschool',\n",
       " 'pittsfield highschool',\n",
       " 'matanzas highschool',\n",
       " 'pontiac highschool']"
      ]
     },
     "execution_count": 39,
     "metadata": {},
     "output_type": "execute_result"
    }
   ],
   "source": [
    "\n",
    "## for now, ignoring jr/senior distinction\n",
    "## and matching on high school, high, and hs\n",
    "\n",
    "## to avoid matching things like highland, \n",
    "## after high or hs, add (\\s|$) that tells it \n",
    "## to either look for a space or look for the \n",
    "## end of the string\n",
    "hs_sub_pattern = r\"(\\shigh(\\s|$)|\\shs(\\s|$)?)(\\s+)?(school)?\"\n",
    "test_pat_examples = [re.sub(hs_sub_pattern, \" highschool\", example) \n",
    "                    for example in hs_examples]\n",
    "\n",
    "test_pat_examples"
   ]
  },
  {
   "cell_type": "code",
   "execution_count": 42,
   "metadata": {},
   "outputs": [],
   "source": [
    "### apply over all and assign as a new column\n",
    "### since we're pulling from original df\n",
    "### casting it to string since was object\n",
    "hs_clean_all = [re.sub(hs_sub_pattern, \" highschool\", str(oneschool)) \n",
    "                    for oneschool in cep_optin.schoolname_lower.to_list()]\n",
    "\n",
    "\n",
    "### assign as col\n",
    "cep_optin['school_cleanhs'] = hs_clean_all"
   ]
  },
  {
   "cell_type": "markdown",
   "metadata": {},
   "source": [
    "### With some examples, pulling out name of school before high"
   ]
  },
  {
   "cell_type": "code",
   "execution_count": 47,
   "metadata": {},
   "outputs": [
    {
     "data": {
      "text/plain": [
       "[None,\n",
       " <re.Match object; span=(0, 16), match='huron highschool'>,\n",
       " <re.Match object; span=(0, 18), match='thomson highschool'>,\n",
       " None,\n",
       " <re.Match object; span=(0, 22), match='clovis east highschool'>,\n",
       " <re.Match object; span=(0, 21), match='camden jr. highschool'>,\n",
       " <re.Match object; span=(0, 25), match='jackson junior highschool'>,\n",
       " <re.Match object; span=(0, 24), match='emmett junior highschool'>,\n",
       " <re.Match object; span=(0, 17), match='atkins highschool'>,\n",
       " <re.Match object; span=(0, 27), match='lexington senior highschool'>,\n",
       " <re.Match object; span=(0, 17), match='temple highschool'>,\n",
       " <re.Match object; span=(0, 22), match='forest hill highschool'>,\n",
       " <re.Match object; span=(0, 21), match='pittsfield highschool'>,\n",
       " <re.Match object; span=(0, 19), match='matanzas highschool'>,\n",
       " <re.Match object; span=(0, 18), match='pontiac highschool'>]"
      ]
     },
     "execution_count": 47,
     "metadata": {},
     "output_type": "execute_result"
    },
    {
     "data": {
      "text/plain": [
       "['',\n",
       " 'huron',\n",
       " 'thomson',\n",
       " '',\n",
       " 'clovis east',\n",
       " 'camden jr.',\n",
       " 'jackson junior',\n",
       " 'emmett junior',\n",
       " 'atkins',\n",
       " 'lexington senior',\n",
       " 'temple',\n",
       " 'forest hill',\n",
       " 'pittsfield',\n",
       " 'matanzas',\n",
       " 'pontiac']"
      ]
     },
     "execution_count": 47,
     "metadata": {},
     "output_type": "execute_result"
    }
   ],
   "source": [
    "## using the test_pat_examples and want to get things like huron, thomson, clovis east\n",
    "prehs_pattern = r\"(.*)\\s+(highschool)(\\s+)?(\\w+)?\"\n",
    "\n",
    "schoolname_preh_matchobj  = [re.search(prehs_pattern, \n",
    "                    school) for school in test_pat_examples]\n",
    "\n",
    "schoolname_preh_matchobj\n",
    "\n",
    "## get the first group if exists; else return empty string\n",
    "schoolname_preh = [obj.group(1) if obj else \"\" for obj in schoolname_preh_matchobj]\n",
    "schoolname_preh"
   ]
  }
 ],
 "metadata": {
  "kernelspec": {
   "display_name": "Python 3",
   "language": "python",
   "name": "python3"
  },
  "language_info": {
   "codemirror_mode": {
    "name": "ipython",
    "version": 3
   },
   "file_extension": ".py",
   "mimetype": "text/x-python",
   "name": "python",
   "nbconvert_exporter": "python",
   "pygments_lexer": "ipython3",
   "version": "3.8.3"
  }
 },
 "nbformat": 4,
 "nbformat_minor": 4
}
