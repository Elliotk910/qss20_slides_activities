{
 "cells": [
  {
   "cell_type": "code",
   "execution_count": 127,
   "metadata": {},
   "outputs": [],
   "source": [
    "import pandas as pd\n",
    "import re\n",
    "import numpy as np\n",
    "\n",
    "## print multiple things from same cell\n",
    "from IPython.core.interactiveshell import InteractiveShell\n",
    "InteractiveShell.ast_node_interactivity = \"all\""
   ]
  },
  {
   "cell_type": "markdown",
   "metadata": {},
   "source": [
    "# Load data and show examples"
   ]
  },
  {
   "cell_type": "code",
   "execution_count": 4,
   "metadata": {},
   "outputs": [
    {
     "data": {
      "text/plain": [
       "['state',\n",
       " 'leaidwhereavailable',\n",
       " 'leaname',\n",
       " 'schoolidwhereavailable',\n",
       " 'schoolname',\n",
       " 'individualispjune2020',\n",
       " 'proxyispoctober2019',\n",
       " 'claimingispifparticipating',\n",
       " 'participatingincepsy2021',\n",
       " 'studentenrollmentwhereavailable',\n",
       " 'unnamed10']"
      ]
     },
     "execution_count": 4,
     "metadata": {},
     "output_type": "execute_result"
    }
   ],
   "source": [
    "cep_optin = pd.read_excel(\"https://frac.org/wp-content/uploads/2021SY-CEP_Database_Export.xlsx\")\n"
   ]
  },
  {
   "cell_type": "code",
   "execution_count": 66,
   "metadata": {},
   "outputs": [
    {
     "data": {
      "text/plain": [
       "33114                paint branch elementary\n",
       "21654       stewart county elementary school\n",
       "15127        stove prairie elementary school\n",
       "75308    winchester avenue elementary school\n",
       "41410                         oak hill elem.\n",
       "41527                  lewis and clark elem.\n",
       "25420                   saunemin elem school\n",
       "22656       desert springs elementary school\n",
       "32269              fifth district elementary\n",
       "59726               linden elementary school\n",
       "Name: schoolname_lower, dtype: object"
      ]
     },
     "execution_count": 66,
     "metadata": {},
     "output_type": "execute_result"
    }
   ],
   "source": [
    "## clean colnames\n",
    "new_colnames = [re.sub(\"[^A-Za-z0-9]+\", \"\", col.lower()) for col in cep_optin.columns]\n",
    "\n",
    "## add back\n",
    "cep_optin.columns = new_colnames\n",
    "\n",
    "cep_optin.head()\n",
    "\n",
    "cep_optin['schoolname_lower'] = cep_optin.schoolname.str.lower()\n",
    "\n",
    "## check whether name of school contains\n",
    "## space followed by elem*\n",
    "cep_optin['is_elem'] = np.where(cep_optin.schoolname_lower.str.contains(\"\\s+elem\", regex = True),\n",
    "                True, False)\n",
    "\n",
    "\n",
    "test_schools = cep_optin.loc[(cep_optin.is_elem) &\n",
    "               (cep_optin.schoolname_lower.str.contains(\"elem\\\\.\")) |\n",
    "               (cep_optin.schoolname_lower.str.contains(\"elem\")) |\n",
    "               (cep_optin.schoolname_lower.str.contains(\"elementary\")) |\n",
    "               (cep_optin.schoolname_lower.str.contains(\"esd\")),\n",
    "            'schoolname_lower'].sample(n = 30, random_state = 470)\n",
    "\n",
    "test_schools_show = test_schools.iloc[13:23]\n",
    "\n",
    "test_schools_show"
   ]
  },
  {
   "cell_type": "markdown",
   "metadata": {},
   "source": [
    "# Re.sub illustrations\n",
    "\n",
    "**Task**: for the `schoolname` field, replace the different varieties of elementary school with `elemschool` in the field"
   ]
  },
  {
   "cell_type": "markdown",
   "metadata": {},
   "source": [
    "## Incorrect approach \n",
    "\n",
    "Returns incorrect results that we'll see below"
   ]
  },
  {
   "cell_type": "code",
   "execution_count": 140,
   "metadata": {},
   "outputs": [
    {
     "data": {
      "text/html": [
       "<div>\n",
       "<style scoped>\n",
       "    .dataframe tbody tr th:only-of-type {\n",
       "        vertical-align: middle;\n",
       "    }\n",
       "\n",
       "    .dataframe tbody tr th {\n",
       "        vertical-align: top;\n",
       "    }\n",
       "\n",
       "    .dataframe thead th {\n",
       "        text-align: right;\n",
       "    }\n",
       "</style>\n",
       "<table border=\"1\" class=\"dataframe\">\n",
       "  <thead>\n",
       "    <tr style=\"text-align: right;\">\n",
       "      <th></th>\n",
       "      <th>orig_name</th>\n",
       "      <th>cleaned_name</th>\n",
       "    </tr>\n",
       "  </thead>\n",
       "  <tbody>\n",
       "    <tr>\n",
       "      <th>33114</th>\n",
       "      <td>paint branch elementary</td>\n",
       "      <td>paint branch elemschool</td>\n",
       "    </tr>\n",
       "    <tr>\n",
       "      <th>21654</th>\n",
       "      <td>stewart county elementary school</td>\n",
       "      <td>stewart county elemschool school</td>\n",
       "    </tr>\n",
       "    <tr>\n",
       "      <th>15127</th>\n",
       "      <td>stove prairie elementary school</td>\n",
       "      <td>stove prairie elemschool school</td>\n",
       "    </tr>\n",
       "    <tr>\n",
       "      <th>75308</th>\n",
       "      <td>winchester avenue elementary school</td>\n",
       "      <td>winchester avenue elemschool school</td>\n",
       "    </tr>\n",
       "    <tr>\n",
       "      <th>41410</th>\n",
       "      <td>oak hill elem.</td>\n",
       "      <td>oak hill elemschool.</td>\n",
       "    </tr>\n",
       "    <tr>\n",
       "      <th>41527</th>\n",
       "      <td>lewis and clark elem.</td>\n",
       "      <td>lewis and clark elemschool.</td>\n",
       "    </tr>\n",
       "    <tr>\n",
       "      <th>25420</th>\n",
       "      <td>saunemin elem school</td>\n",
       "      <td>saunemin elemschool school</td>\n",
       "    </tr>\n",
       "    <tr>\n",
       "      <th>22656</th>\n",
       "      <td>desert springs elementary school</td>\n",
       "      <td>desert springs elemschool school</td>\n",
       "    </tr>\n",
       "    <tr>\n",
       "      <th>32269</th>\n",
       "      <td>fifth district elementary</td>\n",
       "      <td>fifth district elemschool</td>\n",
       "    </tr>\n",
       "    <tr>\n",
       "      <th>59726</th>\n",
       "      <td>linden elementary school</td>\n",
       "      <td>linden elemschool school</td>\n",
       "    </tr>\n",
       "  </tbody>\n",
       "</table>\n",
       "</div>"
      ],
      "text/plain": [
       "                                 orig_name  \\\n",
       "33114              paint branch elementary   \n",
       "21654     stewart county elementary school   \n",
       "15127      stove prairie elementary school   \n",
       "75308  winchester avenue elementary school   \n",
       "41410                       oak hill elem.   \n",
       "41527                lewis and clark elem.   \n",
       "25420                 saunemin elem school   \n",
       "22656     desert springs elementary school   \n",
       "32269            fifth district elementary   \n",
       "59726             linden elementary school   \n",
       "\n",
       "                              cleaned_name  \n",
       "33114              paint branch elemschool  \n",
       "21654     stewart county elemschool school  \n",
       "15127      stove prairie elemschool school  \n",
       "75308  winchester avenue elemschool school  \n",
       "41410                 oak hill elemschool.  \n",
       "41527          lewis and clark elemschool.  \n",
       "25420           saunemin elemschool school  \n",
       "22656     desert springs elemschool school  \n",
       "32269            fifth district elemschool  \n",
       "59726             linden elemschool school  "
      ]
     },
     "execution_count": 140,
     "metadata": {},
     "output_type": "execute_result"
    }
   ],
   "source": [
    "elem_pattern = r\"elementary|elem|elem\\\\.|elementary school\"\n",
    "\n",
    "new_schools = [re.sub(elem_pattern, \"elemschool\", school) for school in test_schools_show]\n",
    "\n",
    "old_and_new = pd.DataFrame({'orig_name': test_schools_show,\n",
    "                           'cleaned_name': new_schools})\n",
    "\n",
    "#print(old_and_new.to_latex(index = False))\n",
    "old_and_new"
   ]
  },
  {
   "cell_type": "markdown",
   "metadata": {},
   "source": [
    "## Correct approach\n",
    "\n",
    "Addresses issues above with `elementary school` and `elem.`"
   ]
  },
  {
   "cell_type": "code",
   "execution_count": 141,
   "metadata": {},
   "outputs": [
    {
     "data": {
      "text/html": [
       "<div>\n",
       "<style scoped>\n",
       "    .dataframe tbody tr th:only-of-type {\n",
       "        vertical-align: middle;\n",
       "    }\n",
       "\n",
       "    .dataframe tbody tr th {\n",
       "        vertical-align: top;\n",
       "    }\n",
       "\n",
       "    .dataframe thead th {\n",
       "        text-align: right;\n",
       "    }\n",
       "</style>\n",
       "<table border=\"1\" class=\"dataframe\">\n",
       "  <thead>\n",
       "    <tr style=\"text-align: right;\">\n",
       "      <th></th>\n",
       "      <th>orig_name</th>\n",
       "      <th>cleaned_name</th>\n",
       "    </tr>\n",
       "  </thead>\n",
       "  <tbody>\n",
       "    <tr>\n",
       "      <th>33114</th>\n",
       "      <td>paint branch elementary</td>\n",
       "      <td>paint branch elemschool</td>\n",
       "    </tr>\n",
       "    <tr>\n",
       "      <th>21654</th>\n",
       "      <td>stewart county elementary school</td>\n",
       "      <td>stewart county elemschool</td>\n",
       "    </tr>\n",
       "    <tr>\n",
       "      <th>15127</th>\n",
       "      <td>stove prairie elementary school</td>\n",
       "      <td>stove prairie elemschool</td>\n",
       "    </tr>\n",
       "    <tr>\n",
       "      <th>75308</th>\n",
       "      <td>winchester avenue elementary school</td>\n",
       "      <td>winchester avenue elemschool</td>\n",
       "    </tr>\n",
       "    <tr>\n",
       "      <th>41410</th>\n",
       "      <td>oak hill elem.</td>\n",
       "      <td>oak hill elemschool</td>\n",
       "    </tr>\n",
       "    <tr>\n",
       "      <th>41527</th>\n",
       "      <td>lewis and clark elem.</td>\n",
       "      <td>lewis and clark elemschool</td>\n",
       "    </tr>\n",
       "    <tr>\n",
       "      <th>25420</th>\n",
       "      <td>saunemin elem school</td>\n",
       "      <td>saunemin elemschool</td>\n",
       "    </tr>\n",
       "    <tr>\n",
       "      <th>22656</th>\n",
       "      <td>desert springs elementary school</td>\n",
       "      <td>desert springs elemschool</td>\n",
       "    </tr>\n",
       "    <tr>\n",
       "      <th>32269</th>\n",
       "      <td>fifth district elementary</td>\n",
       "      <td>fifth district elemschool</td>\n",
       "    </tr>\n",
       "    <tr>\n",
       "      <th>59726</th>\n",
       "      <td>linden elementary school</td>\n",
       "      <td>linden elemschool</td>\n",
       "    </tr>\n",
       "  </tbody>\n",
       "</table>\n",
       "</div>"
      ],
      "text/plain": [
       "                                 orig_name                  cleaned_name\n",
       "33114              paint branch elementary       paint branch elemschool\n",
       "21654     stewart county elementary school     stewart county elemschool\n",
       "15127      stove prairie elementary school      stove prairie elemschool\n",
       "75308  winchester avenue elementary school  winchester avenue elemschool\n",
       "41410                       oak hill elem.           oak hill elemschool\n",
       "41527                lewis and clark elem.    lewis and clark elemschool\n",
       "25420                 saunemin elem school           saunemin elemschool\n",
       "22656     desert springs elementary school     desert springs elemschool\n",
       "32269            fifth district elementary     fifth district elemschool\n",
       "59726             linden elementary school             linden elemschool"
      ]
     },
     "execution_count": 141,
     "metadata": {},
     "output_type": "execute_result"
    }
   ],
   "source": [
    "elem_pattern_try2 = r\"(elem.*)(\\s+)?(school)?\"\n",
    "    \n",
    "new_schools_try2 = [re.sub(elem_pattern_try2, \"elemschool\", school) \n",
    "                   for school in test_schools_show]    \n",
    "\n",
    "\n",
    "old_and_new_try2 = pd.DataFrame({'orig_name': test_schools_show,\n",
    "                           'cleaned_name': new_schools_try2})\n",
    "\n",
    "#print(old_and_new_try2.to_latex(index = False))\n",
    "old_and_new_try2"
   ]
  },
  {
   "cell_type": "markdown",
   "metadata": {},
   "source": [
    "# re.findall and re.search illustrations"
   ]
  },
  {
   "cell_type": "markdown",
   "metadata": {},
   "source": [
    "**Task**: want to create pattern that, for charter schools, allows us to extract the school name prior to the appearance of charter. School names without charter will not have matches"
   ]
  },
  {
   "cell_type": "markdown",
   "metadata": {},
   "source": [
    "## re.findall "
   ]
  },
  {
   "cell_type": "code",
   "execution_count": 98,
   "metadata": {},
   "outputs": [
    {
     "data": {
      "text/plain": [
       "['rebeccajohnson8', 'rebeccajohnson88', 'rebeccajohnson796']"
      ]
     },
     "execution_count": 98,
     "metadata": {},
     "output_type": "execute_result"
    }
   ],
   "source": [
    "\n",
    "test_patterns = [\"rebeccajohnson8\", \"rebeccajohnson88\", \"rebeccajohnson796\"]\n",
    "\n",
    "[re.findall(r\"[a-z]+\\d+\", pat)[0] for pat in test_patterns]"
   ]
  },
  {
   "cell_type": "code",
   "execution_count": 139,
   "metadata": {},
   "outputs": [
    {
     "data": {
      "text/plain": [
       "['buffalo collegiate charter school',\n",
       " 'thomas edison charter academy                                   ',\n",
       " 'moving everest charter school',\n",
       " 'life source international charter',\n",
       " 'south valley academy charter school',\n",
       " 'neighborhood charter school of harle',\n",
       " 'brighter choice charter school-girls',\n",
       " \"children's community charter\",\n",
       " 'frontier elementary school',\n",
       " 'columbus humanities, arts and technology academy',\n",
       " 'okemos public montessori-central',\n",
       " 'pawhuska es',\n",
       " 'east valley senior high',\n",
       " 'glenpool es',\n",
       " 'number 27',\n",
       " 'south fork elementary']"
      ]
     },
     "execution_count": 139,
     "metadata": {},
     "output_type": "execute_result"
    }
   ],
   "source": [
    "## pull some charter examples and other examples\n",
    "charter_examples = cep_optin.schoolname_lower[cep_optin.schoolname_lower.astype(str).str.contains(\"charter\")].sample(n = 8,\n",
    "                    random_state = 422).to_list()\n",
    "other_examples = cep_optin.schoolname_lower[~cep_optin.schoolname_lower.astype(str).str.contains(\"charter\")].sample(n = 8,\n",
    "                    random_state = 422).to_list()\n",
    "\n",
    "\n",
    "combined_examples = charter_examples + other_examples\n",
    "combined_examples\n"
   ]
  },
  {
   "cell_type": "code",
   "execution_count": 120,
   "metadata": {},
   "outputs": [
    {
     "data": {
      "text/plain": [
       "[[('buffalo collegiate', 'charter', ' ', 'school')],\n",
       " [('thomas edison', 'charter', ' ', 'academy')],\n",
       " [('moving everest', 'charter', ' ', 'school')],\n",
       " [('life source international', 'charter', '', '')],\n",
       " [('south valley academy', 'charter', ' ', 'school')],\n",
       " [('neighborhood', 'charter', ' ', 'school')],\n",
       " [('brighter choice', 'charter', ' ', 'school')],\n",
       " [(\"children's community\", 'charter', '', '')],\n",
       " [],\n",
       " [],\n",
       " [],\n",
       " [],\n",
       " [],\n",
       " [],\n",
       " [],\n",
       " []]"
      ]
     },
     "execution_count": 120,
     "metadata": {},
     "output_type": "execute_result"
    }
   ],
   "source": [
    "## charter pattern\n",
    "charter_pattern = r\"(.*)\\s+(charter)(\\s+)?(\\w+)?\"\n",
    "\n",
    "## findall \n",
    "test_charter_findall = [re.findall(charter_pattern, \n",
    "                    school) for school in combined_examples]\n",
    "\n",
    "## print result\n",
    "test_charter_findall\n",
    "\n"
   ]
  },
  {
   "cell_type": "code",
   "execution_count": 118,
   "metadata": {},
   "outputs": [
    {
     "name": "stdout",
     "output_type": "stream",
     "text": [
      "buffalo collegiate\n"
     ]
    }
   ],
   "source": [
    "## show example of one\n",
    "print(test_charter_findall[0][0][0])"
   ]
  },
  {
   "cell_type": "markdown",
   "metadata": {},
   "source": [
    "## re.search"
   ]
  },
  {
   "cell_type": "code",
   "execution_count": 121,
   "metadata": {},
   "outputs": [
    {
     "data": {
      "text/plain": [
       "[<re.Match object; span=(0, 33), match='buffalo collegiate charter school'>,\n",
       " <re.Match object; span=(0, 29), match='thomas edison charter academy'>,\n",
       " <re.Match object; span=(0, 29), match='moving everest charter school'>,\n",
       " <re.Match object; span=(0, 33), match='life source international charter'>,\n",
       " <re.Match object; span=(0, 35), match='south valley academy charter school'>,\n",
       " <re.Match object; span=(0, 27), match='neighborhood charter school'>,\n",
       " <re.Match object; span=(0, 30), match='brighter choice charter school'>,\n",
       " <re.Match object; span=(0, 28), match=\"children's community charter\">,\n",
       " None,\n",
       " None,\n",
       " None,\n",
       " None,\n",
       " None,\n",
       " None,\n",
       " None,\n",
       " None]"
      ]
     },
     "execution_count": 121,
     "metadata": {},
     "output_type": "execute_result"
    }
   ],
   "source": [
    "## get matches\n",
    "test_charter_search = [re.search(charter_pattern, \n",
    "                    school) for school in combined_examples]\n",
    "\n",
    "test_charter_search\n"
   ]
  },
  {
   "cell_type": "code",
   "execution_count": 137,
   "metadata": {},
   "outputs": [
    {
     "data": {
      "text/plain": [
       "<re.Match object; span=(0, 29), match='thomas edison charter academy'>"
      ]
     },
     "execution_count": 137,
     "metadata": {},
     "output_type": "execute_result"
    },
    {
     "data": {
      "text/plain": [
       "'thomas edison'"
      ]
     },
     "execution_count": 137,
     "metadata": {},
     "output_type": "execute_result"
    }
   ],
   "source": [
    "## extract matches\n",
    "\n",
    "### here, we're just focusing on the 2nd match (thomas edison charter academy)\n",
    "### and we're getting the first group from that match\n",
    "thomas_match = test_charter_search[1]\n",
    "thomas_match\n",
    "\n",
    "### example where we're just getting the first group\n",
    "### (name of school before charter)\n",
    "thomas_firstgroup = thomas_match.group(1)\n",
    "thomas_firstgroup\n"
   ]
  },
  {
   "cell_type": "code",
   "execution_count": 136,
   "metadata": {},
   "outputs": [
    {
     "name": "stdout",
     "output_type": "stream",
     "text": [
      "Group 0 is: \n",
      "thomas edison charter academy\n",
      "Group 1 is: \n",
      "thomas edison\n",
      "Group 2 is: \n",
      "charter\n",
      "Group 3 is: \n",
      " \n",
      "Group 4 is: \n",
      "academy\n"
     ]
    }
   ],
   "source": [
    "### iterate over all groups and print\n",
    "for i in range(0, len(thomas_match.groups())+1):\n",
    "    print(\"Group \" + str(i) + \" is: \")\n",
    "    print(thomas_match.group(i))\n",
    "\n",
    "## see error if we go beyond actual number of \n",
    "## groups thomas_match.group(5)"
   ]
  },
  {
   "cell_type": "code",
   "execution_count": 138,
   "metadata": {},
   "outputs": [
    {
     "data": {
      "text/plain": [
       "['buffalo collegiate',\n",
       " 'thomas edison',\n",
       " 'moving everest',\n",
       " 'life source international',\n",
       " 'south valley academy',\n",
       " 'neighborhood',\n",
       " 'brighter choice',\n",
       " \"children's community\",\n",
       " '',\n",
       " '',\n",
       " '',\n",
       " '',\n",
       " '',\n",
       " '',\n",
       " '',\n",
       " '']"
      ]
     },
     "execution_count": 138,
     "metadata": {},
     "output_type": "execute_result"
    }
   ],
   "source": [
    "## can generalize to the full list with ifelse\n",
    "def get_precharter_name(one_matchobj):\n",
    "    \n",
    "    if one_matchobj:\n",
    "        school_name = one_matchobj.group(1)\n",
    "    else:\n",
    "        school_name = \"\"\n",
    "    \n",
    "    return(school_name)\n",
    "\n",
    "all_charter_match = [get_precharter_name(one_search) \n",
    "                    for one_search in test_charter_search]\n",
    "\n",
    "all_charter_match"
   ]
  },
  {
   "cell_type": "markdown",
   "metadata": {},
   "source": [
    "# Group activity\n",
    "\n",
    "- Return to the full list of school names in the original data\n",
    "- You want to find the names of high schools. Try out some patterns to standardize the high school names (e.g., `high school` and `high` could both become `highschool`)\n",
    "- Then, using some example results, try writing a regex pattern and using re.match to get the name of the school that precedes the `highschool` part of the name (e.g., `new trier highschool` -> `new trier`)\n",
    "\n"
   ]
  },
  {
   "cell_type": "code",
   "execution_count": null,
   "metadata": {},
   "outputs": [],
   "source": []
  }
 ],
 "metadata": {
  "kernelspec": {
   "display_name": "Python 3",
   "language": "python",
   "name": "python3"
  },
  "language_info": {
   "codemirror_mode": {
    "name": "ipython",
    "version": 3
   },
   "file_extension": ".py",
   "mimetype": "text/x-python",
   "name": "python",
   "nbconvert_exporter": "python",
   "pygments_lexer": "ipython3",
   "version": "3.8.3"
  }
 },
 "nbformat": 4,
 "nbformat_minor": 4
}
