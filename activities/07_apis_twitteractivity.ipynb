{
 "cells": [
  {
   "cell_type": "code",
   "execution_count": 1,
   "metadata": {},
   "outputs": [],
   "source": [
    "## imports\n",
    "import pandas as pd\n",
    "import numpy as np\n",
    "import re\n",
    "import requests\n",
    "import yaml\n",
    "import tweepy\n",
    "import pickle\n",
    "import plotnine\n",
    "from plotnine import *\n",
    "\n",
    "## repeated printouts\n",
    "from IPython.core.interactiveshell import InteractiveShell\n",
    "InteractiveShell.ast_node_interactivity = \"all\"\n",
    "pd.set_option('display.max_colwidth', None)\n",
    "\n",
    "## function to load credentials yaml\n",
    "def load_creds(path: str):\n",
    "    with open(path, 'r') as stream:\n",
    "        try:\n",
    "            creds = yaml.safe_load(stream)\n",
    "        except yaml.YAMLError as exc:\n",
    "            print(exc)\n",
    "    return(creds)"
   ]
  },
  {
   "cell_type": "markdown",
   "metadata": {},
   "source": [
    "# Setup: authenticate to Twitter API"
   ]
  },
  {
   "cell_type": "code",
   "execution_count": 2,
   "metadata": {},
   "outputs": [],
   "source": [
    "## read creds file\n",
    "creds = load_creds(\"../private_data/creds_forclass.yaml\")\n"
   ]
  },
  {
   "cell_type": "code",
   "execution_count": 3,
   "metadata": {},
   "outputs": [
    {
     "name": "stdout",
     "output_type": "stream",
     "text": [
      "<class 'tweepy.api.API'>\n",
      "Authentication OK\n"
     ]
    }
   ],
   "source": [
    "## authenticate\n",
    "### use oauth to authenticate with consumer key and secret\n",
    "auth = tweepy.OAuthHandler(creds['twitter_api']['consumer_key'],\n",
    "                          creds['twitter_api']['consumer_secret'])\n",
    "### set access token\n",
    "auth.set_access_token(creds['twitter_api']['access_token'],\n",
    "                     creds['twitter_api']['access_token_secret'])\n",
    "\n",
    "### initialize connection\n",
    "api = tweepy.API(auth, wait_on_rate_limit = True)\n",
    "\n",
    "print(type(api))\n",
    "\n",
    "## check that our authentication worked\n",
    "## source- https://realpython.com/twitter-bot-python-tweepy/\n",
    "try:\n",
    "    print(\"Authentication OK\")\n",
    "except:\n",
    "    print(\"Error during authentication\")\n",
    "    "
   ]
  },
  {
   "cell_type": "markdown",
   "metadata": {},
   "source": [
    "# Activity"
   ]
  },
  {
   "cell_type": "markdown",
   "metadata": {},
   "source": [
    "- Choose a public user (e.g., a politician; celebrity) and pull the 20 most recent tweets on their timeline and metadata about those tweets (e.g., created time; favorites; retweets)\n",
    "- Choose one of the tweets to focus on that got a lot of engagement and use the below example code w/ one of Hassan's tweets (adapted from here: https://stellamindemography.wordpress.com/2018/05/04/mining-data-from-twitter-and-replies-to-tweets-with-tweepy/) to pull some replies\n",
    "- Use text analysis to characterize themes in the replies -- eg you could do sentiment analysis or look at top words\n",
    "\n",
    "Here's the link to the example code that has api methods like user_timeline: link to example code: https://github.com/rebeccajohnson88/qss20_slides_activities/blob/main/activities/07_apis_examplecode_twitter.ipynb "
   ]
  },
  {
   "cell_type": "code",
   "execution_count": 6,
   "metadata": {},
   "outputs": [
    {
     "data": {
      "text/plain": [
       "['@SenatorHassan And how are you losers in DC going to administer this?  You must be totally clueless to think giving… https://t.co/urAoa8wwlb',\n",
       " '@SenatorHassan Seems like gov paying for care would be better policy approach. Can include paying family members to care for each other.',\n",
       " '@SenatorHassan #MSC2000 Monthly Stimulus ✔️ s $2000 thru Pandemic plus 6 more months for ALL Adults plus Adult Depe… https://t.co/IWp2Rztn7U',\n",
       " '@SenatorHassan But the people have to suffer that didn’t get Fpuc from August till January last year?We are in extr… https://t.co/Fse6lhpeA1',\n",
       " '@SenatorHassan Yes we do!',\n",
       " \"@SenatorHassan Mother's day yesterday. It made us think of all the mothers fighting to save their Diversity Visa cr… https://t.co/Z7wieklgSc\",\n",
       " '@SenatorHassan @SenTinaSmith ...or spouse!',\n",
       " '@SenatorHassan @ProudAm55793141 Its Either Someone in the Family Takes Care of The Elderly, Or a Nursing Home\\nDoes..?',\n",
       " '@SenatorHassan @jocowboys87 Ummm disabled',\n",
       " '@SenatorHassan Who is going to pay that?',\n",
       " '@SenatorHassan @PattyMurray Are you willing to take a pay cut to fund this?  Or you could stop taking so much of ou… https://t.co/kB0oWDYKtl',\n",
       " '@SenatorHassan Or their spouse/life partner',\n",
       " '@SenatorHassan Can we please start looking at Universal healthcare?  How does Canada manage it?',\n",
       " \"@SenatorHassan @nazuzuwin Yes!!! I've been off for going on 3 weeks to stay with my mom in hospital. We had to put… https://t.co/Il8Cjid3Ms\",\n",
       " '@SenatorHassan And who will pay for this?',\n",
       " '@SenatorHassan @PattyMurray We must hold politicians accountable for nov 6',\n",
       " '@SenatorHassan @Decima28936219 Are you implying that an rt will guarantee these things?\\nDidn’t think so.',\n",
       " '@SenatorHassan @PattyMurray You voted against the 15 min wage. Nobody likes you',\n",
       " '@SenatorHassan @RRalstonAgile I wish benefits like this were available to the self employed small business owner.… https://t.co/36e6XaNy6j',\n",
       " '@SenatorHassan @PattyMurray That’s a No-Brainer! Any, opposition is uncivilized!',\n",
       " '@SenatorHassan Be careful when you use the word \"deserve\". You deserve what you create or EARN in value in workplac… https://t.co/9CwwNjECHO',\n",
       " \"@SenatorHassan @bhennrich Have you ever worked a regular job? Most people don't get paid leave to take care of themselves.\",\n",
       " '@SenatorHassan We also deserve paid leave to care for OURSELVES!!',\n",
       " \"@SenatorHassan @ElSupre24752773 Your position on the #MinimumWage is out of alignment with your party's leadership… https://t.co/jWmbkP33Q0\"]"
      ]
     },
     "execution_count": 6,
     "metadata": {},
     "output_type": "execute_result"
    }
   ],
   "source": [
    "replies=[] \n",
    "tweet_id_str = '1391518471159156738'\n",
    "for tweet in tweepy.Cursor(api.search,q='to:SenatorHassan', since_id=tweet_id_str, \n",
    "                result_type='recent',timeout=999999).items(1000):\n",
    "    if hasattr(tweet, 'in_reply_to_status_id_str'):\n",
    "        if (tweet.in_reply_to_status_id_str==tweet_id_str):\n",
    "            replies.append(tweet.text)\n",
    "\n",
    "replies"
   ]
  },
  {
   "cell_type": "code",
   "execution_count": 7,
   "metadata": {},
   "outputs": [],
   "source": [
    "## your code here\n"
   ]
  }
 ],
 "metadata": {
  "kernelspec": {
   "display_name": "Python 3",
   "language": "python",
   "name": "python3"
  },
  "language_info": {
   "codemirror_mode": {
    "name": "ipython",
    "version": 3
   },
   "file_extension": ".py",
   "mimetype": "text/x-python",
   "name": "python",
   "nbconvert_exporter": "python",
   "pygments_lexer": "ipython3",
   "version": "3.8.3"
  }
 },
 "nbformat": 4,
 "nbformat_minor": 4
}
