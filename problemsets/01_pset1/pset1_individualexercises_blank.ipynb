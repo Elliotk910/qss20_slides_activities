{
 "cells": [
  {
   "cell_type": "markdown",
   "metadata": {},
   "source": [
    "# 0. Load packages and imports"
   ]
  },
  {
   "cell_type": "code",
   "execution_count": 1,
   "metadata": {},
   "outputs": [],
   "source": [
    "## basic functionality\n",
    "import pandas as pd\n",
    "import numpy as np\n",
    "import re\n",
    "\n",
    "## repeated printouts\n",
    "from IPython.core.interactiveshell import InteractiveShell\n",
    "InteractiveShell.ast_node_interactivity = \"all\"\n"
   ]
  },
  {
   "cell_type": "markdown",
   "metadata": {},
   "source": [
    "# Individual portion\n",
    "\n",
    "Use the same `sentencing_cleaned` data for this portion. \n",
    "\n",
    "In the group portion, you investigated one form of disparity: probation versus incarceration.\n",
    "\n",
    "Here, you'll investigate a second type of disparity---the length of a defendant's sentence---and also investigate how variation between different judges in the severity of the sentence relates to disparities. "
   ]
  },
  {
   "cell_type": "markdown",
   "metadata": {},
   "source": [
    "## 3.1 Filter to incarceration and construct a sentence length variable (6 points)\n",
    "\n",
    "Defendants can be sentenced to different lengths for probation, but for simplicity:\n",
    "\n",
    "- Filter to sentences that involve incarceration (same Illinois Department of Corrections logic as above)\n",
    "- Filter out non-numeric sentence lengths (e.g., Term, Pounds, or Dollars)\n",
    "- Filter to Black or White defendants\n",
    "\n",
    "Then, follow the instructions in the codebook (combining `COMMITMENT_TERM` with `COMMITMENT_UNIT`) to create a standard sentence length in days column (`senlength_derived`). To simplify, you can assume that:\n",
    "\n",
    "- 1 hour = 1/24th of a day\n",
    "- 1 year = 365 days\n",
    "- 1 month = 30.5 days\n",
    "- 1 week = 7 days\n",
    "- Natural life = difference between the age of 100 and the defendant's age at incident (cleaned; if missing, code to age 20); note that this is a simplification since age at incident != age at sentencing \n",
    "\n",
    "Print the following cols for an example of each type (eg an example of originally hours; an example of natural life): `COMMITMENT_TERM`, `COMMITMENT_UNIT`, `age_derived` and your new standardized sentence length column\n",
    "\n",
    "Print the summary of that sentence length column using the .describe() command"
   ]
  },
  {
   "cell_type": "markdown",
   "metadata": {},
   "source": [
    "## 3.2 Examine disparities in length within the same judge and offense category: no adjustment (2 points)\n",
    "\n",
    "- Filter to narcotics offenses \n",
    "\n",
    "- For each judge with at least 20 Black and at least 20 white defendants, plot the (1) median sentence length for Black defendants and (2) median sentence length for white defendants (factor variable on x axis for each judge_id who qualifies; group by race)\n",
    "\n",
    "- Write a 1-2 sentence interpretation - if we assume that cases/defendants are randomly assigned to sentencing judges, what might this suggest about the role of judicial discretion in these disparities?"
   ]
  },
  {
   "cell_type": "markdown",
   "metadata": {},
   "source": [
    "## 3.3 Examine disparities in length within the same judge and offense category: constructing matched pairs (6 points)\n",
    "\n",
    "Focus on `judgeid_derived` = `judge_21` and the same narcotics offenses. For each defendant, you want to construct \"matched groups\" of defendants who:\n",
    "\n",
    "- Are the same exact age\n",
    "- Are the same gender\n",
    "- Differ in race from the focal defendant\n",
    "\n",
    "Use code to find any/all matched defendants for each focal defendant. Print a table that compares the sentence length for focal compared to others and comment on what other things you'd like to match on if we had a larger dataset\n",
    "    "
   ]
  },
  {
   "cell_type": "markdown",
   "metadata": {},
   "source": [
    "# 4. Optional challenge: looking at judge characteristics\n",
    "\n",
    "The previous exercises showed large differences in sentences between judges/differences in disparities. You become interested in how the judge's own demographic attributes are correlated with sentencing. Going back to the judge's name (`SENTENCE JUDGE`), parse their first name and try to probabilistically infer his or her gender. Then, investigate whether disparities differ between \"likely female\" and \"likely male\" judges. \n",
    "\n",
    " "
   ]
  }
 ],
 "metadata": {
  "kernelspec": {
   "display_name": "Python 3",
   "language": "python",
   "name": "python3"
  },
  "language_info": {
   "codemirror_mode": {
    "name": "ipython",
    "version": 3
   },
   "file_extension": ".py",
   "mimetype": "text/x-python",
   "name": "python",
   "nbconvert_exporter": "python",
   "pygments_lexer": "ipython3",
   "version": "3.8.3"
  }
 },
 "nbformat": 4,
 "nbformat_minor": 4
}
